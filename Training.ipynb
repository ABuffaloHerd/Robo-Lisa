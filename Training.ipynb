{
 "cells": [
  {
   "cell_type": "markdown",
   "id": "1c130450",
   "metadata": {},
   "source": [
    "# There are multiple models here"
   ]
  },
  {
   "cell_type": "code",
   "execution_count": 5,
   "id": "f9cbfb42",
   "metadata": {},
   "outputs": [
    {
     "name": "stdout",
     "output_type": "stream",
     "text": [
      "Collecting imbalanced-learn\n",
      "  Obtaining dependency information for imbalanced-learn from https://files.pythonhosted.org/packages/a3/9e/fbe60a768502af54563dcb59ca7856f5a8833b3ad5ada658922e1ab09b7f/imbalanced_learn-0.11.0-py3-none-any.whl.metadata\n",
      "  Downloading imbalanced_learn-0.11.0-py3-none-any.whl.metadata (8.3 kB)\n",
      "Requirement already satisfied: numpy>=1.17.3 in e:\\python\\lib\\site-packages (from imbalanced-learn) (1.22.3)\n",
      "Requirement already satisfied: scipy>=1.5.0 in e:\\python\\lib\\site-packages (from imbalanced-learn) (1.8.0)\n",
      "Requirement already satisfied: scikit-learn>=1.0.2 in e:\\python\\lib\\site-packages (from imbalanced-learn) (1.0.2)\n",
      "Collecting joblib>=1.1.1 (from imbalanced-learn)\n",
      "  Obtaining dependency information for joblib>=1.1.1 from https://files.pythonhosted.org/packages/10/40/d551139c85db202f1f384ba8bcf96aca2f329440a844f924c8a0040b6d02/joblib-1.3.2-py3-none-any.whl.metadata\n",
      "  Downloading joblib-1.3.2-py3-none-any.whl.metadata (5.4 kB)\n",
      "Requirement already satisfied: threadpoolctl>=2.0.0 in e:\\python\\lib\\site-packages (from imbalanced-learn) (3.1.0)\n",
      "Downloading imbalanced_learn-0.11.0-py3-none-any.whl (235 kB)\n",
      "   ---------------------------------------- 235.6/235.6 kB 7.3 MB/s eta 0:00:00\n",
      "Downloading joblib-1.3.2-py3-none-any.whl (302 kB)\n",
      "   --------------------------------------- 302.2/302.2 kB 18.2 MB/s eta 0:00:00\n",
      "Installing collected packages: joblib, imbalanced-learn\n",
      "  Attempting uninstall: joblib\n",
      "    Found existing installation: joblib 1.1.0\n",
      "    Uninstalling joblib-1.1.0:\n",
      "      Successfully uninstalled joblib-1.1.0\n",
      "Successfully installed imbalanced-learn-0.11.0 joblib-1.3.2\n"
     ]
    },
    {
     "name": "stderr",
     "output_type": "stream",
     "text": [
      "\n",
      "[notice] A new release of pip is available: 23.2.1 -> 23.3.1\n",
      "[notice] To update, run: E:\\Python\\python.exe -m pip install --upgrade pip\n"
     ]
    }
   ],
   "source": [
    "import sys\n",
    "!{sys.executable} -m pip install imbalanced-learn"
   ]
  },
  {
   "cell_type": "code",
   "execution_count": 24,
   "id": "67798dec",
   "metadata": {},
   "outputs": [],
   "source": [
    "import pandas as pd\n",
    "import numpy as np\n",
    "import pickle\n",
    "from sklearn.preprocessing import LabelEncoder\n",
    "from sklearn.feature_extraction.text import CountVectorizer, TfidfTransformer\n",
    "from sklearn.model_selection import train_test_split\n",
    "from sklearn.naive_bayes import GaussianNB, MultinomialNB\n",
    "from sklearn.svm import SVC\n",
    "from sklearn.metrics import accuracy_score, classification_report, confusion_matrix, make_scorer\n",
    "from collections import Counter\n",
    "from sklearn.tree import DecisionTreeClassifier\n",
    "from sklearn.model_selection import GridSearchCV\n",
    "from sklearn.metrics import make_scorer, f1_score\n",
    "from imblearn.over_sampling import SMOTE\n",
    "from imblearn.pipeline import Pipeline"
   ]
  },
  {
   "cell_type": "markdown",
   "id": "20a79166",
   "metadata": {},
   "source": [
    "## emoji generator model"
   ]
  },
  {
   "cell_type": "code",
   "execution_count": 7,
   "id": "43b39c77",
   "metadata": {},
   "outputs": [
    {
     "data": {
      "text/html": [
       "<div>\n",
       "<style scoped>\n",
       "    .dataframe tbody tr th:only-of-type {\n",
       "        vertical-align: middle;\n",
       "    }\n",
       "\n",
       "    .dataframe tbody tr th {\n",
       "        vertical-align: top;\n",
       "    }\n",
       "\n",
       "    .dataframe thead th {\n",
       "        text-align: right;\n",
       "    }\n",
       "</style>\n",
       "<table border=\"1\" class=\"dataframe\">\n",
       "  <thead>\n",
       "    <tr style=\"text-align: right;\">\n",
       "      <th></th>\n",
       "      <th>original_message</th>\n",
       "      <th>lisas_reply</th>\n",
       "      <th>reply_text</th>\n",
       "      <th>reply_emojis</th>\n",
       "    </tr>\n",
       "  </thead>\n",
       "  <tbody>\n",
       "    <tr>\n",
       "      <th>0</th>\n",
       "      <td>imagine not having nitro lisa</td>\n",
       "      <td>:lisacat:</td>\n",
       "      <td>NaN</td>\n",
       "      <td>:lisacat:</td>\n",
       "    </tr>\n",
       "    <tr>\n",
       "      <th>1</th>\n",
       "      <td>make everyone admin</td>\n",
       "      <td>should i @brioche 🦑 @arin 🐢</td>\n",
       "      <td>should i @brioche 🦑 @arin 🐢</td>\n",
       "      <td>NaN</td>\n",
       "    </tr>\n",
       "    <tr>\n",
       "      <th>2</th>\n",
       "      <td>take photo of food</td>\n",
       "      <td>Don’t take a photo of food</td>\n",
       "      <td>Don’t take a photo of food</td>\n",
       "      <td>NaN</td>\n",
       "    </tr>\n",
       "    <tr>\n",
       "      <th>3</th>\n",
       "      <td>you are mean</td>\n",
       "      <td>:ken:</td>\n",
       "      <td>NaN</td>\n",
       "      <td>:ken:</td>\n",
       "    </tr>\n",
       "    <tr>\n",
       "      <th>4</th>\n",
       "      <td>No</td>\n",
       "      <td>that’s a bit mean</td>\n",
       "      <td>that’s a bit mean</td>\n",
       "      <td>NaN</td>\n",
       "    </tr>\n",
       "  </tbody>\n",
       "</table>\n",
       "</div>"
      ],
      "text/plain": [
       "                original_message                  lisas_reply  \\\n",
       "0  imagine not having nitro lisa                    :lisacat:   \n",
       "1            make everyone admin  should i @brioche 🦑 @arin 🐢   \n",
       "2             take photo of food   Don’t take a photo of food   \n",
       "3                   you are mean                        :ken:   \n",
       "4                             No            that’s a bit mean   \n",
       "\n",
       "                    reply_text reply_emojis  \n",
       "0                          NaN    :lisacat:  \n",
       "1  should i @brioche 🦑 @arin 🐢          NaN  \n",
       "2   Don’t take a photo of food          NaN  \n",
       "3                          NaN        :ken:  \n",
       "4            that’s a bit mean          NaN  "
      ]
     },
     "execution_count": 7,
     "metadata": {},
     "output_type": "execute_result"
    }
   ],
   "source": [
    "df = pd.read_csv('emoji.csv')\n",
    "df.head()"
   ]
  },
  {
   "cell_type": "code",
   "execution_count": 26,
   "id": "3bc2e73d",
   "metadata": {},
   "outputs": [
    {
     "name": "stdout",
     "output_type": "stream",
     "text": [
      "ERROR! Session/line number was not unique in database. History logging moved to new session 102\n",
      "Index(['original_message', 'lisas_reply', 'reply_text', 'reply_emojis',\n",
      "       'synthetics '],\n",
      "      dtype='object')\n"
     ]
    }
   ],
   "source": [
    "df = pd.read_csv('emoji-syn.csv')\n",
    "df.head()\n",
    "print(df.columns)"
   ]
  },
  {
   "cell_type": "code",
   "execution_count": 27,
   "id": "0a1df848",
   "metadata": {},
   "outputs": [
    {
     "name": "stdout",
     "output_type": "stream",
     "text": [
      "Index(['original_message', 'lisas_reply', 'reply_text', 'reply_emojis',\n",
      "       'synthetics ', 'combined'],\n",
      "      dtype='object')\n"
     ]
    }
   ],
   "source": [
    "#only run if using synthetic data\n",
    "df['combined'] = df['reply_emojis'].combine_first(df['synthetics '])\n",
    "\n",
    "print(df.columns)"
   ]
  },
  {
   "cell_type": "code",
   "execution_count": 28,
   "id": "91147c35",
   "metadata": {},
   "outputs": [
    {
     "name": "stdout",
     "output_type": "stream",
     "text": [
      "Index(['original_message', 'lisas_reply', 'reply_text', 'reply_emojis',\n",
      "       'synthetics ', 'combined'],\n",
      "      dtype='object')\n",
      "rows: 1039\n"
     ]
    },
    {
     "data": {
      "text/html": [
       "<div>\n",
       "<style scoped>\n",
       "    .dataframe tbody tr th:only-of-type {\n",
       "        vertical-align: middle;\n",
       "    }\n",
       "\n",
       "    .dataframe tbody tr th {\n",
       "        vertical-align: top;\n",
       "    }\n",
       "\n",
       "    .dataframe thead th {\n",
       "        text-align: right;\n",
       "    }\n",
       "</style>\n",
       "<table border=\"1\" class=\"dataframe\">\n",
       "  <thead>\n",
       "    <tr style=\"text-align: right;\">\n",
       "      <th></th>\n",
       "      <th>original_message</th>\n",
       "      <th>reply_emojis</th>\n",
       "    </tr>\n",
       "  </thead>\n",
       "  <tbody>\n",
       "    <tr>\n",
       "      <th>0</th>\n",
       "      <td>imagine not having nitro lisa</td>\n",
       "      <td>:lisaCat:</td>\n",
       "    </tr>\n",
       "    <tr>\n",
       "      <th>1</th>\n",
       "      <td>make everyone admin</td>\n",
       "      <td>:heheHarrison:</td>\n",
       "    </tr>\n",
       "    <tr>\n",
       "      <th>2</th>\n",
       "      <td>take photo of food</td>\n",
       "      <td>:catCry:</td>\n",
       "    </tr>\n",
       "    <tr>\n",
       "      <th>3</th>\n",
       "      <td>you are mean</td>\n",
       "      <td>:ken:</td>\n",
       "    </tr>\n",
       "    <tr>\n",
       "      <th>4</th>\n",
       "      <td>No</td>\n",
       "      <td>:mad:</td>\n",
       "    </tr>\n",
       "  </tbody>\n",
       "</table>\n",
       "</div>"
      ],
      "text/plain": [
       "                original_message    reply_emojis\n",
       "0  imagine not having nitro lisa       :lisaCat:\n",
       "1            make everyone admin  :heheHarrison:\n",
       "2             take photo of food        :catCry:\n",
       "3                   you are mean           :ken:\n",
       "4                             No           :mad:"
      ]
     },
     "execution_count": 28,
     "metadata": {},
     "output_type": "execute_result"
    }
   ],
   "source": [
    "#only run if using synthetic data\n",
    "df = df.dropna(subset=['combined'])\n",
    "print(df.columns)\n",
    "print(f\"rows: {len(df)}\")\n",
    "\n",
    "df.drop(['lisas_reply','reply_text', 'synthetics ', 'reply_emojis'], axis=1, inplace=True)\n",
    "df = df.rename(columns={'combined': 'reply_emojis'})\n",
    "\n",
    "df.head()"
   ]
  },
  {
   "cell_type": "code",
   "execution_count": null,
   "id": "2f5a8de8",
   "metadata": {},
   "outputs": [],
   "source": []
  },
  {
   "cell_type": "code",
   "execution_count": 58,
   "id": "bc93b89c",
   "metadata": {
    "scrolled": true
   },
   "outputs": [
    {
     "ename": "KeyError",
     "evalue": "\"['lisas_reply', 'reply_text'] not found in axis\"",
     "output_type": "error",
     "traceback": [
      "\u001b[1;31m---------------------------------------------------------------------------\u001b[0m",
      "\u001b[1;31mKeyError\u001b[0m                                  Traceback (most recent call last)",
      "Input \u001b[1;32mIn [58]\u001b[0m, in \u001b[0;36m<cell line: 2>\u001b[1;34m()\u001b[0m\n\u001b[0;32m      1\u001b[0m df \u001b[38;5;241m=\u001b[39m df\u001b[38;5;241m.\u001b[39mdropna(subset\u001b[38;5;241m=\u001b[39m[\u001b[38;5;124m'\u001b[39m\u001b[38;5;124mreply_emojis\u001b[39m\u001b[38;5;124m'\u001b[39m])\n\u001b[1;32m----> 2\u001b[0m \u001b[43mdf\u001b[49m\u001b[38;5;241;43m.\u001b[39;49m\u001b[43mdrop\u001b[49m\u001b[43m(\u001b[49m\u001b[43m[\u001b[49m\u001b[38;5;124;43m'\u001b[39;49m\u001b[38;5;124;43mlisas_reply\u001b[39;49m\u001b[38;5;124;43m'\u001b[39;49m\u001b[43m,\u001b[49m\u001b[38;5;124;43m'\u001b[39;49m\u001b[38;5;124;43mreply_text\u001b[39;49m\u001b[38;5;124;43m'\u001b[39;49m\u001b[43m]\u001b[49m\u001b[43m,\u001b[49m\u001b[43m \u001b[49m\u001b[43maxis\u001b[49m\u001b[38;5;241;43m=\u001b[39;49m\u001b[38;5;241;43m1\u001b[39;49m\u001b[43m,\u001b[49m\u001b[43m \u001b[49m\u001b[43minplace\u001b[49m\u001b[38;5;241;43m=\u001b[39;49m\u001b[38;5;28;43;01mTrue\u001b[39;49;00m\u001b[43m)\u001b[49m\n\u001b[0;32m      4\u001b[0m \u001b[38;5;28mprint\u001b[39m(df\u001b[38;5;241m.\u001b[39mcolumns)\n\u001b[0;32m      5\u001b[0m df\u001b[38;5;241m.\u001b[39mhead()\n",
      "File \u001b[1;32mE:\\Python\\lib\\site-packages\\pandas\\util\\_decorators.py:311\u001b[0m, in \u001b[0;36mdeprecate_nonkeyword_arguments.<locals>.decorate.<locals>.wrapper\u001b[1;34m(*args, **kwargs)\u001b[0m\n\u001b[0;32m    305\u001b[0m \u001b[38;5;28;01mif\u001b[39;00m \u001b[38;5;28mlen\u001b[39m(args) \u001b[38;5;241m>\u001b[39m num_allow_args:\n\u001b[0;32m    306\u001b[0m     warnings\u001b[38;5;241m.\u001b[39mwarn(\n\u001b[0;32m    307\u001b[0m         msg\u001b[38;5;241m.\u001b[39mformat(arguments\u001b[38;5;241m=\u001b[39marguments),\n\u001b[0;32m    308\u001b[0m         \u001b[38;5;167;01mFutureWarning\u001b[39;00m,\n\u001b[0;32m    309\u001b[0m         stacklevel\u001b[38;5;241m=\u001b[39mstacklevel,\n\u001b[0;32m    310\u001b[0m     )\n\u001b[1;32m--> 311\u001b[0m \u001b[38;5;28;01mreturn\u001b[39;00m func(\u001b[38;5;241m*\u001b[39margs, \u001b[38;5;241m*\u001b[39m\u001b[38;5;241m*\u001b[39mkwargs)\n",
      "File \u001b[1;32mE:\\Python\\lib\\site-packages\\pandas\\core\\frame.py:4948\u001b[0m, in \u001b[0;36mDataFrame.drop\u001b[1;34m(self, labels, axis, index, columns, level, inplace, errors)\u001b[0m\n\u001b[0;32m   4800\u001b[0m \u001b[38;5;129m@deprecate_nonkeyword_arguments\u001b[39m(version\u001b[38;5;241m=\u001b[39m\u001b[38;5;28;01mNone\u001b[39;00m, allowed_args\u001b[38;5;241m=\u001b[39m[\u001b[38;5;124m\"\u001b[39m\u001b[38;5;124mself\u001b[39m\u001b[38;5;124m\"\u001b[39m, \u001b[38;5;124m\"\u001b[39m\u001b[38;5;124mlabels\u001b[39m\u001b[38;5;124m\"\u001b[39m])\n\u001b[0;32m   4801\u001b[0m \u001b[38;5;28;01mdef\u001b[39;00m \u001b[38;5;21mdrop\u001b[39m(\n\u001b[0;32m   4802\u001b[0m     \u001b[38;5;28mself\u001b[39m,\n\u001b[1;32m   (...)\u001b[0m\n\u001b[0;32m   4809\u001b[0m     errors: \u001b[38;5;28mstr\u001b[39m \u001b[38;5;241m=\u001b[39m \u001b[38;5;124m\"\u001b[39m\u001b[38;5;124mraise\u001b[39m\u001b[38;5;124m\"\u001b[39m,\n\u001b[0;32m   4810\u001b[0m ):\n\u001b[0;32m   4811\u001b[0m     \u001b[38;5;124;03m\"\"\"\u001b[39;00m\n\u001b[0;32m   4812\u001b[0m \u001b[38;5;124;03m    Drop specified labels from rows or columns.\u001b[39;00m\n\u001b[0;32m   4813\u001b[0m \n\u001b[1;32m   (...)\u001b[0m\n\u001b[0;32m   4946\u001b[0m \u001b[38;5;124;03m            weight  1.0     0.8\u001b[39;00m\n\u001b[0;32m   4947\u001b[0m \u001b[38;5;124;03m    \"\"\"\u001b[39;00m\n\u001b[1;32m-> 4948\u001b[0m     \u001b[38;5;28;01mreturn\u001b[39;00m \u001b[38;5;28;43msuper\u001b[39;49m\u001b[43m(\u001b[49m\u001b[43m)\u001b[49m\u001b[38;5;241;43m.\u001b[39;49m\u001b[43mdrop\u001b[49m\u001b[43m(\u001b[49m\n\u001b[0;32m   4949\u001b[0m \u001b[43m        \u001b[49m\u001b[43mlabels\u001b[49m\u001b[38;5;241;43m=\u001b[39;49m\u001b[43mlabels\u001b[49m\u001b[43m,\u001b[49m\n\u001b[0;32m   4950\u001b[0m \u001b[43m        \u001b[49m\u001b[43maxis\u001b[49m\u001b[38;5;241;43m=\u001b[39;49m\u001b[43maxis\u001b[49m\u001b[43m,\u001b[49m\n\u001b[0;32m   4951\u001b[0m \u001b[43m        \u001b[49m\u001b[43mindex\u001b[49m\u001b[38;5;241;43m=\u001b[39;49m\u001b[43mindex\u001b[49m\u001b[43m,\u001b[49m\n\u001b[0;32m   4952\u001b[0m \u001b[43m        \u001b[49m\u001b[43mcolumns\u001b[49m\u001b[38;5;241;43m=\u001b[39;49m\u001b[43mcolumns\u001b[49m\u001b[43m,\u001b[49m\n\u001b[0;32m   4953\u001b[0m \u001b[43m        \u001b[49m\u001b[43mlevel\u001b[49m\u001b[38;5;241;43m=\u001b[39;49m\u001b[43mlevel\u001b[49m\u001b[43m,\u001b[49m\n\u001b[0;32m   4954\u001b[0m \u001b[43m        \u001b[49m\u001b[43minplace\u001b[49m\u001b[38;5;241;43m=\u001b[39;49m\u001b[43minplace\u001b[49m\u001b[43m,\u001b[49m\n\u001b[0;32m   4955\u001b[0m \u001b[43m        \u001b[49m\u001b[43merrors\u001b[49m\u001b[38;5;241;43m=\u001b[39;49m\u001b[43merrors\u001b[49m\u001b[43m,\u001b[49m\n\u001b[0;32m   4956\u001b[0m \u001b[43m    \u001b[49m\u001b[43m)\u001b[49m\n",
      "File \u001b[1;32mE:\\Python\\lib\\site-packages\\pandas\\core\\generic.py:4279\u001b[0m, in \u001b[0;36mNDFrame.drop\u001b[1;34m(self, labels, axis, index, columns, level, inplace, errors)\u001b[0m\n\u001b[0;32m   4277\u001b[0m \u001b[38;5;28;01mfor\u001b[39;00m axis, labels \u001b[38;5;129;01min\u001b[39;00m axes\u001b[38;5;241m.\u001b[39mitems():\n\u001b[0;32m   4278\u001b[0m     \u001b[38;5;28;01mif\u001b[39;00m labels \u001b[38;5;129;01mis\u001b[39;00m \u001b[38;5;129;01mnot\u001b[39;00m \u001b[38;5;28;01mNone\u001b[39;00m:\n\u001b[1;32m-> 4279\u001b[0m         obj \u001b[38;5;241m=\u001b[39m \u001b[43mobj\u001b[49m\u001b[38;5;241;43m.\u001b[39;49m\u001b[43m_drop_axis\u001b[49m\u001b[43m(\u001b[49m\u001b[43mlabels\u001b[49m\u001b[43m,\u001b[49m\u001b[43m \u001b[49m\u001b[43maxis\u001b[49m\u001b[43m,\u001b[49m\u001b[43m \u001b[49m\u001b[43mlevel\u001b[49m\u001b[38;5;241;43m=\u001b[39;49m\u001b[43mlevel\u001b[49m\u001b[43m,\u001b[49m\u001b[43m \u001b[49m\u001b[43merrors\u001b[49m\u001b[38;5;241;43m=\u001b[39;49m\u001b[43merrors\u001b[49m\u001b[43m)\u001b[49m\n\u001b[0;32m   4281\u001b[0m \u001b[38;5;28;01mif\u001b[39;00m inplace:\n\u001b[0;32m   4282\u001b[0m     \u001b[38;5;28mself\u001b[39m\u001b[38;5;241m.\u001b[39m_update_inplace(obj)\n",
      "File \u001b[1;32mE:\\Python\\lib\\site-packages\\pandas\\core\\generic.py:4323\u001b[0m, in \u001b[0;36mNDFrame._drop_axis\u001b[1;34m(self, labels, axis, level, errors, consolidate, only_slice)\u001b[0m\n\u001b[0;32m   4321\u001b[0m         new_axis \u001b[38;5;241m=\u001b[39m axis\u001b[38;5;241m.\u001b[39mdrop(labels, level\u001b[38;5;241m=\u001b[39mlevel, errors\u001b[38;5;241m=\u001b[39merrors)\n\u001b[0;32m   4322\u001b[0m     \u001b[38;5;28;01melse\u001b[39;00m:\n\u001b[1;32m-> 4323\u001b[0m         new_axis \u001b[38;5;241m=\u001b[39m \u001b[43maxis\u001b[49m\u001b[38;5;241;43m.\u001b[39;49m\u001b[43mdrop\u001b[49m\u001b[43m(\u001b[49m\u001b[43mlabels\u001b[49m\u001b[43m,\u001b[49m\u001b[43m \u001b[49m\u001b[43merrors\u001b[49m\u001b[38;5;241;43m=\u001b[39;49m\u001b[43merrors\u001b[49m\u001b[43m)\u001b[49m\n\u001b[0;32m   4324\u001b[0m     indexer \u001b[38;5;241m=\u001b[39m axis\u001b[38;5;241m.\u001b[39mget_indexer(new_axis)\n\u001b[0;32m   4326\u001b[0m \u001b[38;5;66;03m# Case for non-unique axis\u001b[39;00m\n\u001b[0;32m   4327\u001b[0m \u001b[38;5;28;01melse\u001b[39;00m:\n",
      "File \u001b[1;32mE:\\Python\\lib\\site-packages\\pandas\\core\\indexes\\base.py:6644\u001b[0m, in \u001b[0;36mIndex.drop\u001b[1;34m(self, labels, errors)\u001b[0m\n\u001b[0;32m   6642\u001b[0m \u001b[38;5;28;01mif\u001b[39;00m mask\u001b[38;5;241m.\u001b[39many():\n\u001b[0;32m   6643\u001b[0m     \u001b[38;5;28;01mif\u001b[39;00m errors \u001b[38;5;241m!=\u001b[39m \u001b[38;5;124m\"\u001b[39m\u001b[38;5;124mignore\u001b[39m\u001b[38;5;124m\"\u001b[39m:\n\u001b[1;32m-> 6644\u001b[0m         \u001b[38;5;28;01mraise\u001b[39;00m \u001b[38;5;167;01mKeyError\u001b[39;00m(\u001b[38;5;124mf\u001b[39m\u001b[38;5;124m\"\u001b[39m\u001b[38;5;132;01m{\u001b[39;00m\u001b[38;5;28mlist\u001b[39m(labels[mask])\u001b[38;5;132;01m}\u001b[39;00m\u001b[38;5;124m not found in axis\u001b[39m\u001b[38;5;124m\"\u001b[39m)\n\u001b[0;32m   6645\u001b[0m     indexer \u001b[38;5;241m=\u001b[39m indexer[\u001b[38;5;241m~\u001b[39mmask]\n\u001b[0;32m   6646\u001b[0m \u001b[38;5;28;01mreturn\u001b[39;00m \u001b[38;5;28mself\u001b[39m\u001b[38;5;241m.\u001b[39mdelete(indexer)\n",
      "\u001b[1;31mKeyError\u001b[0m: \"['lisas_reply', 'reply_text'] not found in axis\""
     ]
    }
   ],
   "source": [
    "df = df.dropna(subset=['reply_emojis'])\n",
    "df.drop(['lisas_reply','reply_text'], axis=1, inplace=True)\n",
    "\n",
    "print(df.columns)\n",
    "df.head()"
   ]
  },
  {
   "cell_type": "code",
   "execution_count": 11,
   "id": "96798d2e",
   "metadata": {},
   "outputs": [
    {
     "name": "stdout",
     "output_type": "stream",
     "text": [
      "rows: 846\n"
     ]
    }
   ],
   "source": [
    "print(f\"rows: {len(df)}\")"
   ]
  },
  {
   "cell_type": "code",
   "execution_count": 29,
   "id": "56955196",
   "metadata": {},
   "outputs": [
    {
     "name": "stdout",
     "output_type": "stream",
     "text": [
      "                                       original_message         reply_emojis  \\\n",
      "0                         imagine not having nitro lisa            :lisaCat:   \n",
      "1                                   make everyone admin       :heheHarrison:   \n",
      "2                                    take photo of food             :catCry:   \n",
      "3                                          you are mean                :ken:   \n",
      "4                                                    No                :mad:   \n",
      "...                                                 ...                  ...   \n",
      "4265        Are there any homeware stores in Newmarket?           :pigWoozy:   \n",
      "4266  ||@bozo ||\\n\\nReact to the days that you are c...            :skull~1:   \n",
      "4272                                Cricket every night  :erinnnnnnnnnnnnnn:   \n",
      "4286                                             right?           :thinking:   \n",
      "4304  @pizza 💅🏻 @ae2 crip🦕 best bday present for you...           :thinking:   \n",
      "\n",
      "      encoded  \n",
      "0           0  \n",
      "1           1  \n",
      "2           2  \n",
      "3           3  \n",
      "4           4  \n",
      "...       ...  \n",
      "4265       26  \n",
      "4266        5  \n",
      "4272       21  \n",
      "4286       43  \n",
      "4304       43  \n",
      "\n",
      "[1039 rows x 3 columns]\n"
     ]
    }
   ],
   "source": [
    "# Encoding the string column to numeric values\n",
    "df['encoded'] = pd.factorize(df['reply_emojis'])[0]\n",
    "\n",
    "print(df)"
   ]
  },
  {
   "cell_type": "code",
   "execution_count": 9,
   "id": "25f2151d",
   "metadata": {},
   "outputs": [],
   "source": [
    "label_encoder = LabelEncoder()\n",
    "labels_encoded = label_encoder.fit_transform(df['reply_emojis'])"
   ]
  },
  {
   "cell_type": "code",
   "execution_count": 30,
   "id": "26168808",
   "metadata": {
    "scrolled": false
   },
   "outputs": [
    {
     "name": "stdout",
     "output_type": "stream",
     "text": [
      "[0, 1, 2, 3, 4, 3, 0, 5, 2, 6, 6, 7, 8, 8, 9, 10, 2, 10, 0, 11, 7, 12, 0, 13, 14, 15, 13, 4, 15, 5, 13, 16, 17, 0, 4, 14, 18, 13, 7, 2, 2, 0, 16, 2, 0, 19, 20, 21, 0, 16, 10, 22, 23, 2, 0, 20, 21, 2, 4, 9, 0, 0, 0, 16, 14, 23, 22, 16, 4, 21, 21, 23, 8, 21, 21, 24, 0, 20, 25, 5, 13, 21, 10, 2, 21, 26, 2, 0, 2, 0, 2, 17, 26, 2, 19, 2, 2, 17, 17, 26, 21, 0, 5, 4, 26, 2, 27, 21, 8, 28, 29, 10, 21, 23, 14, 23, 0, 25, 30, 23, 23, 0, 7, 21, 27, 0, 27, 28, 25, 4, 7, 0, 4, 20, 2, 23, 4, 29, 4, 28, 13, 15, 24, 9, 3, 13, 2, 22, 15, 15, 2, 3, 14, 2, 28, 28, 31, 23, 28, 25, 8, 32, 25, 25, 3, 3, 3, 17, 17, 3, 31, 10, 9, 28, 6, 0, 20, 31, 15, 31, 25, 25, 16, 0, 30, 24, 26, 23, 0, 23, 16, 14, 28, 28, 16, 26, 8, 16, 21, 23, 6, 27, 18, 23, 27, 1, 0, 23, 0, 14, 25, 0, 16, 33, 34, 34, 24, 0, 28, 0, 26, 29, 22, 4, 8, 3, 21, 35, 27, 0, 36, 0, 25, 36, 0, 16, 37, 21, 15, 23, 21, 5, 38, 3, 4, 9, 10, 21, 5, 14, 31, 0, 9, 21, 27, 21, 31, 31, 31, 31, 21, 24, 31, 31, 5, 23, 31, 9, 9, 9, 39, 9, 9, 21, 4, 31, 34, 23, 31, 20, 38, 20, 31, 21, 0, 3, 38, 21, 23, 18, 13, 26, 16, 31, 4, 5, 23, 5, 40, 40, 13, 4, 41, 39, 23, 42, 9, 9, 31, 3, 13, 23, 34, 40, 31, 22, 4, 43, 5, 21, 23, 4, 16, 28, 21, 38, 4, 8, 44, 10, 8, 10, 22, 16, 16, 17, 28, 5, 16, 34, 15, 21, 23, 22, 45, 19, 0, 21, 23, 25, 16, 21, 21, 13, 30, 46, 3, 3, 26, 0, 21, 20, 4, 4, 21, 23, 28, 21, 26, 21, 38, 23, 38, 44, 21, 21, 4, 4, 47, 21, 19, 47, 0, 48, 31, 27, 23, 38, 26, 15, 21, 21, 21, 23, 31, 31, 15, 10, 26, 0, 43, 4, 5, 23, 23, 30, 21, 44, 4, 21, 0, 6, 21, 1, 4, 18, 31, 22, 26, 19, 5, 23, 21, 18, 23, 23, 26, 26, 49, 26, 30, 23, 34, 31, 31, 49, 19, 21, 21, 0, 19, 9, 30, 21, 8, 21, 31, 15, 21, 49, 21, 23, 49, 22, 21, 0, 6, 16, 49, 15, 50, 13, 4, 31, 43, 31, 16, 21, 36, 43, 20, 40, 38, 23, 22, 51, 5, 3, 15, 21, 21, 31, 22, 31, 31, 4, 28, 22, 0, 8, 31, 40, 43, 21, 4, 43, 4, 44, 2, 13, 31, 31, 20, 2, 6, 6, 4, 21, 23, 2, 11, 21, 22, 38, 43, 23, 19, 49, 2, 49, 31, 23, 4, 14, 0, 0, 28, 21, 21, 31, 4, 4, 31, 18, 23, 0, 32, 52, 6, 43, 52, 36, 38, 0, 52, 44, 23, 31, 36, 17, 31, 32, 9, 38, 23, 25, 52, 8, 5, 23, 13, 5, 31, 0, 43, 13, 0, 5, 0, 5, 52, 0, 8, 21, 10, 0, 32, 22, 38, 21, 15, 52, 44, 21, 31, 22, 5, 8, 38, 21, 52, 38, 5, 50, 43, 49, 10, 18, 44, 0, 52, 13, 50, 31, 0, 0, 20, 0, 8, 23, 22, 21, 23, 31, 44, 0, 15, 13, 10, 4, 21, 53, 29, 25, 0, 5, 31, 32, 32, 38, 54, 8, 31, 38, 8, 21, 40, 14, 40, 0, 21, 38, 34, 21, 21, 8, 40, 38, 47, 20, 43, 21, 4, 47, 38, 43, 31, 31, 38, 55, 56, 13, 38, 38, 23, 57, 0, 38, 0, 47, 15, 38, 16, 49, 10, 23, 43, 38, 47, 0, 5, 57, 3, 44, 22, 40, 17, 50, 0, 49, 22, 0, 16, 0, 57, 31, 49, 43, 17, 57, 40, 31, 31, 21, 21, 40, 2, 0, 15, 4, 23, 17, 21, 49, 44, 49, 10, 4, 2, 21, 0, 21, 57, 21, 4, 1, 20, 22, 22, 21, 44, 11, 50, 32, 0, 21, 2, 22, 2, 52, 24, 52, 22, 52, 22, 50, 58, 22, 52, 43, 22, 32, 43, 34, 5, 5, 25, 25, 25, 20, 20, 43, 21, 5, 20, 21, 5, 5, 0, 21, 31, 5, 50, 21, 50, 49, 4, 4, 49, 21, 32, 25, 49, 25, 52, 21, 21, 5, 21, 43, 31, 28, 31, 36, 5, 32, 21, 5, 28, 6, 1, 1, 31, 31, 31, 5, 32, 21, 21, 1, 18, 36, 43, 21, 31, 31, 22, 44, 43, 43, 21, 43, 43, 21, 59, 21, 2, 4, 21, 15, 31, 5, 15, 36, 22, 22, 5, 21, 0, 18, 49, 58, 58, 20, 5, 22, 25, 49, 25, 58, 20, 4, 43, 43, 20, 44, 43, 2, 5, 6, 21, 0, 21, 22, 0, 10, 17, 0, 22, 36, 0, 2, 10, 4, 10, 18, 10, 10, 21, 49, 57, 4, 5, 36, 6, 36, 58, 10, 44, 60, 21, 6, 4, 0, 21, 36, 5, 15, 4, 31, 21, 2, 20, 8, 22, 43, 15, 43, 11, 4, 21, 43, 21, 38, 22, 34, 0, 10, 0, 21, 43, 22, 32, 5, 6, 34, 5, 6, 57, 0, 21, 0, 43, 0, 21, 4, 11, 5, 4, 1, 31, 0, 10, 36, 22, 38, 29, 22, 52, 5, 21, 21, 52, 44, 5, 22, 25, 43, 21, 22, 5, 0, 11, 5, 10, 38, 28, 5, 57, 38, 21, 32, 21, 57, 21, 23, 22, 0, 15, 20, 20, 20, 21, 15, 31, 22, 22, 43, 21, 20, 38, 0, 15, 6, 20, 21, 34, 6, 5, 2, 5, 22, 22, 19, 31, 6, 22, 26, 31, 26, 29, 20, 25, 26, 20, 6, 20, 26, 21, 21, 24, 0, 20, 15, 15, 61, 19, 22, 22, 0, 15, 15, 22, 20, 26, 5, 21, 43, 43]\n"
     ]
    }
   ],
   "source": [
    "emoji_encoded = df['encoded'].tolist()\n",
    "print(emoji_encoded)"
   ]
  },
  {
   "cell_type": "code",
   "execution_count": 31,
   "id": "4391bd7c",
   "metadata": {},
   "outputs": [
    {
     "name": "stdout",
     "output_type": "stream",
     "text": [
      ":pigShock:\n"
     ]
    }
   ],
   "source": [
    "emojis = pd.factorize(df['reply_emojis'])[1]\n",
    "\n",
    "encoded_to_string = {i: string for i, string in enumerate(emojis)}\n",
    "def get_emoji_back(encoded_number):\n",
    "    return encoded_to_string.get(encoded_number, \"Unknown\")\n",
    "\n",
    "print(get_emoji_back(7))"
   ]
  },
  {
   "cell_type": "code",
   "execution_count": 32,
   "id": "2d6d0a6d",
   "metadata": {},
   "outputs": [
    {
     "data": {
      "image/png": "[encoded data removed]",
      "text/plain": [
       "<Figure size 432x288 with 1 Axes>"
      ]
     },
     "metadata": {
      "needs_background": "light"
     },
     "output_type": "display_data"
    }
   ],
   "source": [
    "import matplotlib.pyplot as plt\n",
    "\n",
    "plt.hist(emoji_encoded, bins=90)  # 'bins' can be an integer or 'auto' for automatic bin sizing\n",
    "plt.title('Frequency Distribution')\n",
    "plt.xlabel('Value')\n",
    "plt.ylabel('Frequency')\n",
    "plt.show()"
   ]
  },
  {
   "cell_type": "code",
   "execution_count": 33,
   "id": "948fe88d",
   "metadata": {},
   "outputs": [
    {
     "name": "stdout",
     "output_type": "stream",
     "text": [
      "    Emoji  Frequency                                         Emoji_Char\n",
      "0      21        117                                :erinnnnnnnnnnnnnn:\n",
      "1       0         84                                          :lisaCat:\n",
      "2      31         63                                             no you\n",
      "3       5         49                                          :skull~1:\n",
      "4      23         49  https://cdn.discordapp.com/emojis/841886073519...\n",
      "..    ...        ...                                                ...\n",
      "57     41          1                                :RewardBox_Tier_01:\n",
      "58     37          1                                         :blakeeee:\n",
      "59     35          1                                  :Buttercup_Happy:\n",
      "60     33          1                                           :pepeds:\n",
      "61     61          1                                         :notSlayy:\n",
      "\n",
      "[62 rows x 3 columns]\n"
     ]
    }
   ],
   "source": [
    "import pandas as pd\n",
    "from collections import Counter\n",
    "\n",
    "# Assuming 'emoji_encoded' is your list/array of encoded emojis\n",
    "emoji_frequencies = Counter(emoji_encoded)\n",
    "\n",
    "# Convert to a list of (emoji, frequency) pairs\n",
    "emoji_freq_list = list(emoji_frequencies.items())\n",
    "\n",
    "# Create a DataFrame with the emoji and their frequencies\n",
    "emoji_freq_df = pd.DataFrame(emoji_freq_list, columns=['Emoji', 'Frequency'])\n",
    "\n",
    "# Sort the DataFrame by frequency in descending order\n",
    "emoji_freq_df = emoji_freq_df.sort_values('Frequency', ascending=False).reset_index(drop=True)\n",
    "\n",
    "# Map the encoded numbers to their string representations\n",
    "emoji_freq_df['Emoji_Char'] = emoji_freq_df['Emoji'].map(encoded_to_string)\n",
    "\n",
    "# Display the DataFrame\n",
    "print(emoji_freq_df)\n",
    "\n",
    "emoji_freq_df.to_csv('emoji_freq_df.csv', index=False)"
   ]
  },
  {
   "cell_type": "code",
   "execution_count": 34,
   "id": "2ba7cbd1",
   "metadata": {},
   "outputs": [
    {
     "name": "stdout",
     "output_type": "stream",
     "text": [
      "The most common encoded value is 21 with a count of 117\n"
     ]
    }
   ],
   "source": [
    "frequency = Counter(emoji_encoded)\n",
    "\n",
    "# Find the most common encoded value\n",
    "most_common_encoded_value, count = frequency.most_common(1)[0]\n",
    "\n",
    "print(f\"The most common encoded value is {most_common_encoded_value} with a count of {count}\")"
   ]
  },
  {
   "cell_type": "code",
   "execution_count": 35,
   "id": "c14acca8",
   "metadata": {},
   "outputs": [],
   "source": [
    "X = df['original_message']\n",
    "\n",
    "# Count Vectorise\n",
    "vectorizer = CountVectorizer()\n",
    "X_counts = vectorizer.fit_transform(X)\n",
    "\n",
    "# TFIDF Convert\n",
    "tfidf_transformer = TfidfTransformer()\n",
    "X_tfidf = tfidf_transformer.fit_transform(X_counts)"
   ]
  },
  {
   "cell_type": "code",
   "execution_count": 36,
   "id": "cccb0371",
   "metadata": {},
   "outputs": [],
   "source": [
    "# Split into training and test splits (80/20)\n",
    "X_train, X_test, y_train, y_test = train_test_split(X_tfidf, emoji_encoded, test_size=0.2, random_state=0)"
   ]
  },
  {
   "cell_type": "code",
   "execution_count": null,
   "id": "966e9440",
   "metadata": {
    "scrolled": true
   },
   "outputs": [
    {
     "name": "stderr",
     "output_type": "stream",
     "text": [
      "E:\\Python\\lib\\site-packages\\sklearn\\model_selection\\_split.py:676: UserWarning: The least populated class in y has only 1 members, which is less than n_splits=5.\n",
      "  warnings.warn(\n"
     ]
    }
   ],
   "source": [
    "pipeline = Pipeline([\n",
    "    ('smote', SMOTE(random_state=42)),\n",
    "    ('classifier', DecisionTreeClassifier(random_state=42))\n",
    "])\n",
    "\n",
    "# Define the parameter grid\n",
    "param_grid = {\n",
    "    'class_weight': [None, 'balanced'],\n",
    "    'max_depth': [None, 10, 20, 30, 40, 50],\n",
    "    'min_samples_split': [2, 5, 10],\n",
    "    'min_samples_leaf': [1, 2, 4],\n",
    "    'criterion': ['gini', 'entropy'],\n",
    "    'splitter': ['best', 'random'],\n",
    "    'max_features': [None, 'sqrt', 'log2']\n",
    "}\n",
    "\n",
    "# Initialize the classifier\n",
    "dt = DecisionTreeClassifier()\n",
    "\n",
    "# Create a scorer for F1 score\n",
    "f1_scorer = make_scorer(f1_score, average='macro')  # You can change 'macro' to 'micro' or 'weighted' based on your needs\n",
    "\n",
    "# Initialize GridSearchCV\n",
    "grid_search = GridSearchCV(pipeline, param_grid, scoring=f1_scorer, cv=5)\n",
    "\n",
    "# Fit grid search\n",
    "grid_search.fit(X_train, y_train)\n",
    "\n",
    "# Find the best parameters and the corresponding F1-score\n",
    "best_params = grid_search.best_params_\n",
    "best_f1_score = grid_search.best_score_\n",
    "\n",
    "print(\"Best parameters:\", best_params)\n",
    "print(\"Best F1-score:\", best_f1_score)"
   ]
  },
  {
   "cell_type": "code",
   "execution_count": 63,
   "id": "d23a8f34",
   "metadata": {},
   "outputs": [],
   "source": [
    "smote = SMOTE(random_state=42)\n",
    "\n",
    "dt_classifier = DecisionTreeClassifier(\n",
    "    class_weight='balanced',\n",
    "    splitter='random',\n",
    "    max_features='sqrt'  \n",
    ")\n",
    "dt_classifier.fit(X_train, y_train)\n",
    "dt_y_pred = dt_classifier.predict(X_test)"
   ]
  },
  {
   "cell_type": "code",
   "execution_count": 64,
   "id": "3b40cafe",
   "metadata": {
    "scrolled": false
   },
   "outputs": [
    {
     "name": "stdout",
     "output_type": "stream",
     "text": [
      "0.14423076923076922\n",
      "              precision    recall  f1-score   support\n",
      "\n",
      "           0       0.09      0.08      0.09        12\n",
      "           1       0.75      0.60      0.67         5\n",
      "           2       0.00      0.00      0.00         5\n",
      "           3       0.00      0.00      0.00         2\n",
      "           4       0.08      0.08      0.08        12\n",
      "           5       0.00      0.00      0.00         9\n",
      "           6       0.25      0.33      0.29         3\n",
      "           7       0.02      1.00      0.03         1\n",
      "           8       0.00      0.00      0.00         6\n",
      "           9       0.00      0.00      0.00         3\n",
      "          10       0.00      0.00      0.00         5\n",
      "          13       0.00      0.00      0.00         3\n",
      "          14       0.00      0.00      0.00         1\n",
      "          15       0.10      0.17      0.12         6\n",
      "          16       0.00      0.00      0.00         2\n",
      "          17       1.00      0.50      0.67         2\n",
      "          18       0.00      0.00      0.00         2\n",
      "          19       0.00      0.00      0.00         3\n",
      "          20       0.33      0.12      0.18         8\n",
      "          21       0.27      0.08      0.13        36\n",
      "          22       0.40      0.18      0.25        11\n",
      "          23       0.00      0.00      0.00         8\n",
      "          24       1.00      0.33      0.50         3\n",
      "          25       0.00      0.00      0.00         2\n",
      "          26       0.33      1.00      0.50         2\n",
      "          28       0.00      0.00      0.00         3\n",
      "          30       0.00      0.00      0.00         0\n",
      "          31       0.29      0.50      0.36        12\n",
      "          32       0.33      0.50      0.40         2\n",
      "          34       0.00      0.00      0.00         4\n",
      "          36       0.00      0.00      0.00         3\n",
      "          38       0.00      0.00      0.00         3\n",
      "          39       0.00      0.00      0.00         2\n",
      "          40       0.00      0.00      0.00         3\n",
      "          43       0.33      0.20      0.25         5\n",
      "          44       0.67      0.40      0.50         5\n",
      "          47       0.00      0.00      0.00         3\n",
      "          49       0.67      0.40      0.50         5\n",
      "          50       0.00      0.00      0.00         2\n",
      "          52       0.00      0.00      0.00         1\n",
      "          58       0.00      0.00      0.00         2\n",
      "          61       0.00      0.00      0.00         1\n",
      "\n",
      "    accuracy                           0.14       208\n",
      "   macro avg       0.16      0.15      0.13       208\n",
      "weighted avg       0.20      0.14      0.15       208\n",
      "\n"
     ]
    }
   ],
   "source": [
    "print(accuracy_score(y_test, dt_y_pred))\n",
    "print(classification_report(y_test, dt_y_pred, zero_division=0))"
   ]
  },
  {
   "cell_type": "code",
   "execution_count": 58,
   "id": "26b19397",
   "metadata": {},
   "outputs": [],
   "source": [
    "# GaussianNB\n",
    "gnb = MultinomialNB()\n",
    "gnb.fit(X_train, y_train)\n",
    "gnb_pred = gnb.predict(X_test)"
   ]
  },
  {
   "cell_type": "code",
   "execution_count": 40,
   "id": "5e479dc5",
   "metadata": {},
   "outputs": [
    {
     "name": "stdout",
     "output_type": "stream",
     "text": [
      "Confusion Matrix: \n",
      "[[3 0 0 ... 0 0 0]\n",
      " [1 0 0 ... 0 0 0]\n",
      " [0 0 0 ... 0 0 0]\n",
      " ...\n",
      " [0 0 0 ... 0 0 0]\n",
      " [1 0 0 ... 0 0 0]\n",
      " [0 0 0 ... 0 0 0]]\n",
      "\n",
      "Classification Report:\n",
      "              precision    recall  f1-score   support\n",
      "\n",
      "           0       0.07      0.25      0.11        12\n",
      "           1       0.00      0.00      0.00         5\n",
      "           2       0.00      0.00      0.00         5\n",
      "           3       0.00      0.00      0.00         2\n",
      "           4       0.00      0.00      0.00        12\n",
      "           5       0.00      0.00      0.00         9\n",
      "           6       0.00      0.00      0.00         3\n",
      "           7       0.00      0.00      0.00         1\n",
      "           8       0.00      0.00      0.00         6\n",
      "           9       0.00      0.00      0.00         3\n",
      "          10       0.00      0.00      0.00         5\n",
      "          13       0.00      0.00      0.00         3\n",
      "          14       0.00      0.00      0.00         1\n",
      "          15       0.00      0.00      0.00         6\n",
      "          16       0.00      0.00      0.00         2\n",
      "          17       0.00      0.00      0.00         2\n",
      "          18       0.00      0.00      0.00         2\n",
      "          19       0.00      0.00      0.00         3\n",
      "          20       0.00      0.00      0.00         8\n",
      "          21       0.19      0.81      0.31        36\n",
      "          22       0.00      0.00      0.00        11\n",
      "          23       0.00      0.00      0.00         8\n",
      "          24       0.00      0.00      0.00         3\n",
      "          25       0.00      0.00      0.00         2\n",
      "          26       1.00      0.50      0.67         2\n",
      "          28       0.00      0.00      0.00         3\n",
      "          31       0.40      0.50      0.44        12\n",
      "          32       0.00      0.00      0.00         2\n",
      "          34       0.00      0.00      0.00         4\n",
      "          36       0.00      0.00      0.00         3\n",
      "          38       0.00      0.00      0.00         3\n",
      "          39       0.00      0.00      0.00         2\n",
      "          40       0.00      0.00      0.00         3\n",
      "          43       0.00      0.00      0.00         5\n",
      "          44       0.00      0.00      0.00         5\n",
      "          47       0.00      0.00      0.00         3\n",
      "          49       0.00      0.00      0.00         5\n",
      "          50       0.00      0.00      0.00         2\n",
      "          52       0.00      0.00      0.00         1\n",
      "          58       0.00      0.00      0.00         2\n",
      "          61       0.00      0.00      0.00         1\n",
      "\n",
      "    accuracy                           0.19       208\n",
      "   macro avg       0.04      0.05      0.04       208\n",
      "weighted avg       0.07      0.19      0.09       208\n",
      "\n",
      "Accuracy score of our model with svm: 0.1875\n"
     ]
    }
   ],
   "source": [
    "# Results\n",
    "print(\"Confusion Matrix: \")\n",
    "print(confusion_matrix(y_test,gnb_pred))\n",
    "\n",
    "print(\"\\nClassification Report:\")\n",
    "print(classification_report(y_test,gnb_pred, zero_division=0))\n",
    "\n",
    "print(\"Accuracy score of our model with svm:\", accuracy_score(y_test, gnb_pred))"
   ]
  },
  {
   "cell_type": "code",
   "execution_count": 71,
   "id": "da52f79d",
   "metadata": {},
   "outputs": [
    {
     "data": {
      "text/plain": [
       "':yesPingu:'"
      ]
     },
     "execution_count": 71,
     "metadata": {},
     "output_type": "execute_result"
    }
   ],
   "source": [
    "#function for outputting the most likely emoji\n",
    "def predict_emoji(text, classifier, vectorizer):\n",
    "    # Preprocess and vectorize the input text\n",
    "    text_vectorized = vectorizer.transform([text])\n",
    "    \n",
    "    # Predict the emoji\n",
    "    emoji_index = classifier.predict(text_vectorized)\n",
    "\n",
    "    # Decode the emoji\n",
    "    emoji = get_emoji_back(emoji_index[0])\n",
    "    \n",
    "    return emoji\n",
    "\n",
    "text = \"They didn’t want to sleep over\"\n",
    "predict_emoji(text, dt_classifier, vectorizer)"
   ]
  },
  {
   "cell_type": "code",
   "execution_count": 77,
   "id": "18d69ea3",
   "metadata": {},
   "outputs": [
    {
     "data": {
      "text/plain": [
       "[':ken:']"
      ]
     },
     "execution_count": 77,
     "metadata": {},
     "output_type": "execute_result"
    }
   ],
   "source": [
    "#function for outputting any emoji as long as its probability is beyond the threshold. \n",
    "def predict_emoji(text, classifier, vectorizer, threshold=0.1):\n",
    "    # Preprocess and vectorize the input text\n",
    "    text_vectorized = vectorizer.transform([text])\n",
    "    \n",
    "    # Get probabilities for each emoji\n",
    "    probabilities = classifier.predict_proba(text_vectorized)[0]\n",
    "\n",
    "    # Filter out predictions with probabilities above the threshold\n",
    "    high_prob_indices = [i for i, prob in enumerate(probabilities) if prob > threshold]\n",
    "\n",
    "    # Decode the emojis\n",
    "    emojis = [get_emoji_back(index) for index in high_prob_indices]\n",
    "    \n",
    "    return emojis\n",
    "\n",
    "text = \"I SPILT MY WJOLE GLASS OF WATER ON THE FALL\"\n",
    "predict_emoji(text, dt_classifier, vectorizer, threshold=0.1)"
   ]
  },
  {
   "cell_type": "markdown",
   "id": "8e968acf",
   "metadata": {},
   "source": [
    "## now lets export the model "
   ]
  },
  {
   "cell_type": "code",
   "execution_count": 74,
   "id": "32ab52f7",
   "metadata": {},
   "outputs": [
    {
     "name": "stdout",
     "output_type": "stream",
     "text": [
      "Encoded to String Mapping: {0: ':lisaCat:', 1: ':heheHarrison:', 2: ':catCry:', 3: ':ken:', 4: ':mad:', 5: ':skull~1:', 6: ':joever:', 7: ':pigShock:', 8: 'https://cdn.discordapp.com/emojis/1070869015343411210.webp?size=128&quality=lossless', 9: ':clown~1:', 10: 'https://cdn.discordapp.com/emojis/1069084325720637500.webp?size=128&quality=lossless', 11: ':slayy:', 12: ':hmm:', 13: 'https://cdn.discordapp.com/emojis/881182531536449587.gif?size=128&quality=lossless', 14: 'https://cdn.discordapp.com/emojis/750768558975484065.webp?size=128&quality=lossless', 15: ':ohHello:', 16: ':catcry:', 17: ':gun:', 18: 'https://cdn.discordapp.com/emojis/954378740958363748.webp?size=128&quality=lossless', 19: ':angy:', 20: ':nathanielScary:', 21: ':erinnnnnnnnnnnnnn:', 22: ':yay:', 23: 'https://cdn.discordapp.com/emojis/841886073519996979.gif?size=128&quality=lossless', 24: ':pigCold:', 25: ':harrybarbie:', 26: ':pigWoozy:', 27: 'https://cdn.discordapp.com/emojis/1089829892616618025.webp?size=128&quality=lossless', 28: 'SHUT UP', 29: 'BASED', 30: ':adian:', 31: 'no you', 32: ':llama:', 33: ':pepeds:', 34: ':gigaChad:', 35: ':Buttercup_Happy:', 36: ':ohNoFull:', 37: ':blakeeee:', 38: ':no:', 39: ':thomasSurprised:', 40: ':SCbingusHI:', 41: ':RewardBox_Tier_01:', 42: ':shaking:', 43: ':thinking:', 44: ':evilJack:', 45: ':TouchGrass:', 46: ':sad:', 47: ':lachlan:', 48: ':tired:', 49: 'DRAMA', 50: ':queenLuma:', 51: ':atayrun:', 52: ':catThumbsUp:', 53: ':squidward:', 54: ':taytea2:', 55: ':SCsleepybb4:', 56: ':Bubbles_Whimper:', 57: ':yesPingu:', 58: ':clown:', 59: ':nathanielHuh:', 60: ':GigaChad:', 61: ':notSlayy:'}\n"
     ]
    }
   ],
   "source": [
    "print(\"Encoded to String Mapping:\", encoded_to_string)"
   ]
  },
  {
   "cell_type": "code",
   "execution_count": 75,
   "id": "d241241b",
   "metadata": {},
   "outputs": [],
   "source": [
    "# Serialize the classifier\n",
    "with open('classifier.pkl', 'wb') as file:\n",
    "    pickle.dump(dt_classifier, file)\n",
    "\n",
    "# Serialize the vectorizer\n",
    "with open('vectorizer.pkl', 'wb') as file:\n",
    "    pickle.dump(vectorizer, file)\n",
    "\n",
    "# Serialize the encoded_to_string dictionary\n",
    "with open('encoded_to_string.pkl', 'wb') as file:\n",
    "    pickle.dump(encoded_to_string, file)"
   ]
  },
  {
   "cell_type": "code",
   "execution_count": 76,
   "id": "959542e0",
   "metadata": {},
   "outputs": [],
   "source": [
    "# load it back up\n",
    "def load_pickle(file_name):\n",
    "    with open(file_name, 'rb') as file:\n",
    "        return pickle.load(file)\n",
    "\n",
    "# Loading the serialized components\n",
    "classifier = load_pickle('classifier.pkl')\n",
    "vectorizer = load_pickle('vectorizer.pkl')\n",
    "encoded_to_string = load_pickle('encoded_to_string.pkl')\n",
    "\n",
    "# Your get_emoji_back function here\n",
    "def get_emoji_back(encoded_number):\n",
    "    return encoded_to_string.get(encoded_number, \"Unknown\")"
   ]
  },
  {
   "cell_type": "code",
   "execution_count": null,
   "id": "c9abdc25",
   "metadata": {},
   "outputs": [],
   "source": []
  }
 ],
 "metadata": {
  "kernelspec": {
   "display_name": "Python 3 (ipykernel)",
   "language": "python",
   "name": "python3"
  },
  "language_info": {
   "codemirror_mode": {
    "name": "ipython",
    "version": 3
   },
   "file_extension": ".py",
   "mimetype": "text/x-python",
   "name": "python",
   "nbconvert_exporter": "python",
   "pygments_lexer": "ipython3",
   "version": "3.10.6"
  }
 },
 "nbformat": 4,
 "nbformat_minor": 5
}
