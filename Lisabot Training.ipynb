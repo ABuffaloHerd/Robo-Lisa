{
 "cells": [
  {
   "cell_type": "markdown",
   "id": "1c130450",
   "metadata": {},
   "source": [
    "# There are multiple models here"
   ]
  },
  {
   "cell_type": "code",
   "execution_count": 2,
   "id": "67798dec",
   "metadata": {},
   "outputs": [],
   "source": [
    "import pandas as pd\n",
    "import numpy as np\n",
    "import pickle\n",
    "from sklearn.preprocessing import LabelEncoder\n",
    "from sklearn.feature_extraction.text import CountVectorizer, TfidfTransformer\n",
    "from sklearn.model_selection import train_test_split\n",
    "from sklearn.naive_bayes import GaussianNB, MultinomialNB\n",
    "from sklearn.svm import SVC\n",
    "from sklearn.metrics import accuracy_score, classification_report, confusion_matrix, make_scorer\n",
    "from collections import Counter\n",
    "from sklearn.tree import DecisionTreeClassifier\n",
    "from sklearn.model_selection import GridSearchCV\n",
    "from sklearn.metrics import make_scorer, f1_score\n",
    "from imblearn.over_sampling import SMOTE\n",
    "from imblearn.pipeline import Pipeline\n",
    "from sklearn.preprocessing import OneHotEncoder\n",
    "from sklearn.compose import ColumnTransformer\n",
    "from sklearn.ensemble import RandomForestClassifier"
   ]
  },
  {
   "cell_type": "code",
   "execution_count": 3,
   "id": "f9cbfb42",
   "metadata": {},
   "outputs": [
    {
     "name": "stdout",
     "output_type": "stream",
     "text": [
      "1.3.2\n"
     ]
    }
   ],
   "source": [
    "import sklearn\n",
    "\n",
    "\n",
    "print(sklearn.__version__)"
   ]
  },
  {
   "cell_type": "code",
   "execution_count": 3,
   "id": "fcb29afd",
   "metadata": {},
   "outputs": [],
   "source": [
    "!pip freeze >> requirements.txt"
   ]
  },
  {
   "cell_type": "markdown",
   "id": "20a79166",
   "metadata": {},
   "source": [
    "## emoji generator model"
   ]
  },
  {
   "cell_type": "code",
   "execution_count": 7,
   "id": "43b39c77",
   "metadata": {},
   "outputs": [
    {
     "data": {
      "text/html": [
       "<div>\n",
       "<style scoped>\n",
       "    .dataframe tbody tr th:only-of-type {\n",
       "        vertical-align: middle;\n",
       "    }\n",
       "\n",
       "    .dataframe tbody tr th {\n",
       "        vertical-align: top;\n",
       "    }\n",
       "\n",
       "    .dataframe thead th {\n",
       "        text-align: right;\n",
       "    }\n",
       "</style>\n",
       "<table border=\"1\" class=\"dataframe\">\n",
       "  <thead>\n",
       "    <tr style=\"text-align: right;\">\n",
       "      <th></th>\n",
       "      <th>original_message</th>\n",
       "      <th>lisas_reply</th>\n",
       "      <th>reply_text</th>\n",
       "      <th>reply_emojis</th>\n",
       "    </tr>\n",
       "  </thead>\n",
       "  <tbody>\n",
       "    <tr>\n",
       "      <th>0</th>\n",
       "      <td>imagine not having nitro lisa</td>\n",
       "      <td>:lisacat:</td>\n",
       "      <td>NaN</td>\n",
       "      <td>:lisacat:</td>\n",
       "    </tr>\n",
       "    <tr>\n",
       "      <th>1</th>\n",
       "      <td>make everyone admin</td>\n",
       "      <td>should i @brioche 🦑 @arin 🐢</td>\n",
       "      <td>should i @brioche 🦑 @arin 🐢</td>\n",
       "      <td>NaN</td>\n",
       "    </tr>\n",
       "    <tr>\n",
       "      <th>2</th>\n",
       "      <td>take photo of food</td>\n",
       "      <td>Don’t take a photo of food</td>\n",
       "      <td>Don’t take a photo of food</td>\n",
       "      <td>NaN</td>\n",
       "    </tr>\n",
       "    <tr>\n",
       "      <th>3</th>\n",
       "      <td>you are mean</td>\n",
       "      <td>:ken:</td>\n",
       "      <td>NaN</td>\n",
       "      <td>:ken:</td>\n",
       "    </tr>\n",
       "    <tr>\n",
       "      <th>4</th>\n",
       "      <td>No</td>\n",
       "      <td>that’s a bit mean</td>\n",
       "      <td>that’s a bit mean</td>\n",
       "      <td>NaN</td>\n",
       "    </tr>\n",
       "  </tbody>\n",
       "</table>\n",
       "</div>"
      ],
      "text/plain": [
       "                original_message                  lisas_reply  \\\n",
       "0  imagine not having nitro lisa                    :lisacat:   \n",
       "1            make everyone admin  should i @brioche 🦑 @arin 🐢   \n",
       "2             take photo of food   Don’t take a photo of food   \n",
       "3                   you are mean                        :ken:   \n",
       "4                             No            that’s a bit mean   \n",
       "\n",
       "                    reply_text reply_emojis  \n",
       "0                          NaN    :lisacat:  \n",
       "1  should i @brioche 🦑 @arin 🐢          NaN  \n",
       "2   Don’t take a photo of food          NaN  \n",
       "3                          NaN        :ken:  \n",
       "4            that’s a bit mean          NaN  "
      ]
     },
     "execution_count": 7,
     "metadata": {},
     "output_type": "execute_result"
    }
   ],
   "source": [
    "df = pd.read_csv('emoji.csv')\n",
    "df.head()"
   ]
  },
  {
   "cell_type": "code",
   "execution_count": 3,
   "id": "3bc2e73d",
   "metadata": {},
   "outputs": [
    {
     "name": "stdout",
     "output_type": "stream",
     "text": [
      "Index(['original_message', 'lisas_reply', 'reply_text', 'reply_emojis',\n",
      "       'synthetics ', 'author'],\n",
      "      dtype='object')\n"
     ]
    }
   ],
   "source": [
    "df = pd.read_csv('emoji-syn.csv')\n",
    "df.head()\n",
    "print(df.columns)"
   ]
  },
  {
   "cell_type": "code",
   "execution_count": 5,
   "id": "0a1df848",
   "metadata": {},
   "outputs": [
    {
     "name": "stdout",
     "output_type": "stream",
     "text": [
      "Index(['original_message', 'lisas_reply', 'reply_text', 'reply_emojis',\n",
      "       'synthetics ', 'author', 'combined'],\n",
      "      dtype='object')\n"
     ]
    }
   ],
   "source": [
    "#only run if using synthetic data\n",
    "df['combined'] = df['reply_emojis'].combine_first(df['synthetics '])\n",
    "\n",
    "print(df.columns)"
   ]
  },
  {
   "cell_type": "code",
   "execution_count": 6,
   "id": "91147c35",
   "metadata": {},
   "outputs": [
    {
     "name": "stdout",
     "output_type": "stream",
     "text": [
      "Index(['original_message', 'lisas_reply', 'reply_text', 'reply_emojis',\n",
      "       'synthetics ', 'author', 'combined'],\n",
      "      dtype='object')\n",
      "rows: 1039\n"
     ]
    },
    {
     "data": {
      "text/html": [
       "<div>\n",
       "<style scoped>\n",
       "    .dataframe tbody tr th:only-of-type {\n",
       "        vertical-align: middle;\n",
       "    }\n",
       "\n",
       "    .dataframe tbody tr th {\n",
       "        vertical-align: top;\n",
       "    }\n",
       "\n",
       "    .dataframe thead th {\n",
       "        text-align: right;\n",
       "    }\n",
       "</style>\n",
       "<table border=\"1\" class=\"dataframe\">\n",
       "  <thead>\n",
       "    <tr style=\"text-align: right;\">\n",
       "      <th></th>\n",
       "      <th>original_message</th>\n",
       "      <th>author</th>\n",
       "      <th>reply_emojis</th>\n",
       "    </tr>\n",
       "  </thead>\n",
       "  <tbody>\n",
       "    <tr>\n",
       "      <th>0</th>\n",
       "      <td>imagine not having nitro lisa</td>\n",
       "      <td>e.rinh</td>\n",
       "      <td>:lisaCat:</td>\n",
       "    </tr>\n",
       "    <tr>\n",
       "      <th>1</th>\n",
       "      <td>make everyone admin</td>\n",
       "      <td>bombard21</td>\n",
       "      <td>:heheHarrison:</td>\n",
       "    </tr>\n",
       "    <tr>\n",
       "      <th>2</th>\n",
       "      <td>take photo of food</td>\n",
       "      <td>e.rinh</td>\n",
       "      <td>:catCry:</td>\n",
       "    </tr>\n",
       "    <tr>\n",
       "      <th>3</th>\n",
       "      <td>you are mean</td>\n",
       "      <td>e.rinh</td>\n",
       "      <td>:ken:</td>\n",
       "    </tr>\n",
       "    <tr>\n",
       "      <th>4</th>\n",
       "      <td>No</td>\n",
       "      <td>bombard21</td>\n",
       "      <td>:mad:</td>\n",
       "    </tr>\n",
       "  </tbody>\n",
       "</table>\n",
       "</div>"
      ],
      "text/plain": [
       "                original_message     author    reply_emojis\n",
       "0  imagine not having nitro lisa     e.rinh       :lisaCat:\n",
       "1            make everyone admin  bombard21  :heheHarrison:\n",
       "2             take photo of food     e.rinh        :catCry:\n",
       "3                   you are mean     e.rinh           :ken:\n",
       "4                             No  bombard21           :mad:"
      ]
     },
     "execution_count": 6,
     "metadata": {},
     "output_type": "execute_result"
    }
   ],
   "source": [
    "#only run if using synthetic data\n",
    "df = df.dropna(subset=['combined'])\n",
    "print(df.columns)\n",
    "print(f\"rows: {len(df)}\")\n",
    "\n",
    "df.drop(['lisas_reply','reply_text', 'synthetics ', 'reply_emojis'], axis=1, inplace=True)\n",
    "df = df.rename(columns={'combined': 'reply_emojis'})\n",
    "\n",
    "df.head()"
   ]
  },
  {
   "cell_type": "code",
   "execution_count": null,
   "id": "2f5a8de8",
   "metadata": {},
   "outputs": [],
   "source": []
  },
  {
   "cell_type": "code",
   "execution_count": 58,
   "id": "bc93b89c",
   "metadata": {
    "scrolled": true
   },
   "outputs": [
    {
     "ename": "KeyError",
     "evalue": "\"['lisas_reply', 'reply_text'] not found in axis\"",
     "output_type": "error",
     "traceback": [
      "\u001b[1;31m---------------------------------------------------------------------------\u001b[0m",
      "\u001b[1;31mKeyError\u001b[0m                                  Traceback (most recent call last)",
      "Input \u001b[1;32mIn [58]\u001b[0m, in \u001b[0;36m<cell line: 2>\u001b[1;34m()\u001b[0m\n\u001b[0;32m      1\u001b[0m df \u001b[38;5;241m=\u001b[39m df\u001b[38;5;241m.\u001b[39mdropna(subset\u001b[38;5;241m=\u001b[39m[\u001b[38;5;124m'\u001b[39m\u001b[38;5;124mreply_emojis\u001b[39m\u001b[38;5;124m'\u001b[39m])\n\u001b[1;32m----> 2\u001b[0m \u001b[43mdf\u001b[49m\u001b[38;5;241;43m.\u001b[39;49m\u001b[43mdrop\u001b[49m\u001b[43m(\u001b[49m\u001b[43m[\u001b[49m\u001b[38;5;124;43m'\u001b[39;49m\u001b[38;5;124;43mlisas_reply\u001b[39;49m\u001b[38;5;124;43m'\u001b[39;49m\u001b[43m,\u001b[49m\u001b[38;5;124;43m'\u001b[39;49m\u001b[38;5;124;43mreply_text\u001b[39;49m\u001b[38;5;124;43m'\u001b[39;49m\u001b[43m]\u001b[49m\u001b[43m,\u001b[49m\u001b[43m \u001b[49m\u001b[43maxis\u001b[49m\u001b[38;5;241;43m=\u001b[39;49m\u001b[38;5;241;43m1\u001b[39;49m\u001b[43m,\u001b[49m\u001b[43m \u001b[49m\u001b[43minplace\u001b[49m\u001b[38;5;241;43m=\u001b[39;49m\u001b[38;5;28;43;01mTrue\u001b[39;49;00m\u001b[43m)\u001b[49m\n\u001b[0;32m      4\u001b[0m \u001b[38;5;28mprint\u001b[39m(df\u001b[38;5;241m.\u001b[39mcolumns)\n\u001b[0;32m      5\u001b[0m df\u001b[38;5;241m.\u001b[39mhead()\n",
      "File \u001b[1;32mE:\\Python\\lib\\site-packages\\pandas\\util\\_decorators.py:311\u001b[0m, in \u001b[0;36mdeprecate_nonkeyword_arguments.<locals>.decorate.<locals>.wrapper\u001b[1;34m(*args, **kwargs)\u001b[0m\n\u001b[0;32m    305\u001b[0m \u001b[38;5;28;01mif\u001b[39;00m \u001b[38;5;28mlen\u001b[39m(args) \u001b[38;5;241m>\u001b[39m num_allow_args:\n\u001b[0;32m    306\u001b[0m     warnings\u001b[38;5;241m.\u001b[39mwarn(\n\u001b[0;32m    307\u001b[0m         msg\u001b[38;5;241m.\u001b[39mformat(arguments\u001b[38;5;241m=\u001b[39marguments),\n\u001b[0;32m    308\u001b[0m         \u001b[38;5;167;01mFutureWarning\u001b[39;00m,\n\u001b[0;32m    309\u001b[0m         stacklevel\u001b[38;5;241m=\u001b[39mstacklevel,\n\u001b[0;32m    310\u001b[0m     )\n\u001b[1;32m--> 311\u001b[0m \u001b[38;5;28;01mreturn\u001b[39;00m func(\u001b[38;5;241m*\u001b[39margs, \u001b[38;5;241m*\u001b[39m\u001b[38;5;241m*\u001b[39mkwargs)\n",
      "File \u001b[1;32mE:\\Python\\lib\\site-packages\\pandas\\core\\frame.py:4948\u001b[0m, in \u001b[0;36mDataFrame.drop\u001b[1;34m(self, labels, axis, index, columns, level, inplace, errors)\u001b[0m\n\u001b[0;32m   4800\u001b[0m \u001b[38;5;129m@deprecate_nonkeyword_arguments\u001b[39m(version\u001b[38;5;241m=\u001b[39m\u001b[38;5;28;01mNone\u001b[39;00m, allowed_args\u001b[38;5;241m=\u001b[39m[\u001b[38;5;124m\"\u001b[39m\u001b[38;5;124mself\u001b[39m\u001b[38;5;124m\"\u001b[39m, \u001b[38;5;124m\"\u001b[39m\u001b[38;5;124mlabels\u001b[39m\u001b[38;5;124m\"\u001b[39m])\n\u001b[0;32m   4801\u001b[0m \u001b[38;5;28;01mdef\u001b[39;00m \u001b[38;5;21mdrop\u001b[39m(\n\u001b[0;32m   4802\u001b[0m     \u001b[38;5;28mself\u001b[39m,\n\u001b[1;32m   (...)\u001b[0m\n\u001b[0;32m   4809\u001b[0m     errors: \u001b[38;5;28mstr\u001b[39m \u001b[38;5;241m=\u001b[39m \u001b[38;5;124m\"\u001b[39m\u001b[38;5;124mraise\u001b[39m\u001b[38;5;124m\"\u001b[39m,\n\u001b[0;32m   4810\u001b[0m ):\n\u001b[0;32m   4811\u001b[0m     \u001b[38;5;124;03m\"\"\"\u001b[39;00m\n\u001b[0;32m   4812\u001b[0m \u001b[38;5;124;03m    Drop specified labels from rows or columns.\u001b[39;00m\n\u001b[0;32m   4813\u001b[0m \n\u001b[1;32m   (...)\u001b[0m\n\u001b[0;32m   4946\u001b[0m \u001b[38;5;124;03m            weight  1.0     0.8\u001b[39;00m\n\u001b[0;32m   4947\u001b[0m \u001b[38;5;124;03m    \"\"\"\u001b[39;00m\n\u001b[1;32m-> 4948\u001b[0m     \u001b[38;5;28;01mreturn\u001b[39;00m \u001b[38;5;28;43msuper\u001b[39;49m\u001b[43m(\u001b[49m\u001b[43m)\u001b[49m\u001b[38;5;241;43m.\u001b[39;49m\u001b[43mdrop\u001b[49m\u001b[43m(\u001b[49m\n\u001b[0;32m   4949\u001b[0m \u001b[43m        \u001b[49m\u001b[43mlabels\u001b[49m\u001b[38;5;241;43m=\u001b[39;49m\u001b[43mlabels\u001b[49m\u001b[43m,\u001b[49m\n\u001b[0;32m   4950\u001b[0m \u001b[43m        \u001b[49m\u001b[43maxis\u001b[49m\u001b[38;5;241;43m=\u001b[39;49m\u001b[43maxis\u001b[49m\u001b[43m,\u001b[49m\n\u001b[0;32m   4951\u001b[0m \u001b[43m        \u001b[49m\u001b[43mindex\u001b[49m\u001b[38;5;241;43m=\u001b[39;49m\u001b[43mindex\u001b[49m\u001b[43m,\u001b[49m\n\u001b[0;32m   4952\u001b[0m \u001b[43m        \u001b[49m\u001b[43mcolumns\u001b[49m\u001b[38;5;241;43m=\u001b[39;49m\u001b[43mcolumns\u001b[49m\u001b[43m,\u001b[49m\n\u001b[0;32m   4953\u001b[0m \u001b[43m        \u001b[49m\u001b[43mlevel\u001b[49m\u001b[38;5;241;43m=\u001b[39;49m\u001b[43mlevel\u001b[49m\u001b[43m,\u001b[49m\n\u001b[0;32m   4954\u001b[0m \u001b[43m        \u001b[49m\u001b[43minplace\u001b[49m\u001b[38;5;241;43m=\u001b[39;49m\u001b[43minplace\u001b[49m\u001b[43m,\u001b[49m\n\u001b[0;32m   4955\u001b[0m \u001b[43m        \u001b[49m\u001b[43merrors\u001b[49m\u001b[38;5;241;43m=\u001b[39;49m\u001b[43merrors\u001b[49m\u001b[43m,\u001b[49m\n\u001b[0;32m   4956\u001b[0m \u001b[43m    \u001b[49m\u001b[43m)\u001b[49m\n",
      "File \u001b[1;32mE:\\Python\\lib\\site-packages\\pandas\\core\\generic.py:4279\u001b[0m, in \u001b[0;36mNDFrame.drop\u001b[1;34m(self, labels, axis, index, columns, level, inplace, errors)\u001b[0m\n\u001b[0;32m   4277\u001b[0m \u001b[38;5;28;01mfor\u001b[39;00m axis, labels \u001b[38;5;129;01min\u001b[39;00m axes\u001b[38;5;241m.\u001b[39mitems():\n\u001b[0;32m   4278\u001b[0m     \u001b[38;5;28;01mif\u001b[39;00m labels \u001b[38;5;129;01mis\u001b[39;00m \u001b[38;5;129;01mnot\u001b[39;00m \u001b[38;5;28;01mNone\u001b[39;00m:\n\u001b[1;32m-> 4279\u001b[0m         obj \u001b[38;5;241m=\u001b[39m \u001b[43mobj\u001b[49m\u001b[38;5;241;43m.\u001b[39;49m\u001b[43m_drop_axis\u001b[49m\u001b[43m(\u001b[49m\u001b[43mlabels\u001b[49m\u001b[43m,\u001b[49m\u001b[43m \u001b[49m\u001b[43maxis\u001b[49m\u001b[43m,\u001b[49m\u001b[43m \u001b[49m\u001b[43mlevel\u001b[49m\u001b[38;5;241;43m=\u001b[39;49m\u001b[43mlevel\u001b[49m\u001b[43m,\u001b[49m\u001b[43m \u001b[49m\u001b[43merrors\u001b[49m\u001b[38;5;241;43m=\u001b[39;49m\u001b[43merrors\u001b[49m\u001b[43m)\u001b[49m\n\u001b[0;32m   4281\u001b[0m \u001b[38;5;28;01mif\u001b[39;00m inplace:\n\u001b[0;32m   4282\u001b[0m     \u001b[38;5;28mself\u001b[39m\u001b[38;5;241m.\u001b[39m_update_inplace(obj)\n",
      "File \u001b[1;32mE:\\Python\\lib\\site-packages\\pandas\\core\\generic.py:4323\u001b[0m, in \u001b[0;36mNDFrame._drop_axis\u001b[1;34m(self, labels, axis, level, errors, consolidate, only_slice)\u001b[0m\n\u001b[0;32m   4321\u001b[0m         new_axis \u001b[38;5;241m=\u001b[39m axis\u001b[38;5;241m.\u001b[39mdrop(labels, level\u001b[38;5;241m=\u001b[39mlevel, errors\u001b[38;5;241m=\u001b[39merrors)\n\u001b[0;32m   4322\u001b[0m     \u001b[38;5;28;01melse\u001b[39;00m:\n\u001b[1;32m-> 4323\u001b[0m         new_axis \u001b[38;5;241m=\u001b[39m \u001b[43maxis\u001b[49m\u001b[38;5;241;43m.\u001b[39;49m\u001b[43mdrop\u001b[49m\u001b[43m(\u001b[49m\u001b[43mlabels\u001b[49m\u001b[43m,\u001b[49m\u001b[43m \u001b[49m\u001b[43merrors\u001b[49m\u001b[38;5;241;43m=\u001b[39;49m\u001b[43merrors\u001b[49m\u001b[43m)\u001b[49m\n\u001b[0;32m   4324\u001b[0m     indexer \u001b[38;5;241m=\u001b[39m axis\u001b[38;5;241m.\u001b[39mget_indexer(new_axis)\n\u001b[0;32m   4326\u001b[0m \u001b[38;5;66;03m# Case for non-unique axis\u001b[39;00m\n\u001b[0;32m   4327\u001b[0m \u001b[38;5;28;01melse\u001b[39;00m:\n",
      "File \u001b[1;32mE:\\Python\\lib\\site-packages\\pandas\\core\\indexes\\base.py:6644\u001b[0m, in \u001b[0;36mIndex.drop\u001b[1;34m(self, labels, errors)\u001b[0m\n\u001b[0;32m   6642\u001b[0m \u001b[38;5;28;01mif\u001b[39;00m mask\u001b[38;5;241m.\u001b[39many():\n\u001b[0;32m   6643\u001b[0m     \u001b[38;5;28;01mif\u001b[39;00m errors \u001b[38;5;241m!=\u001b[39m \u001b[38;5;124m\"\u001b[39m\u001b[38;5;124mignore\u001b[39m\u001b[38;5;124m\"\u001b[39m:\n\u001b[1;32m-> 6644\u001b[0m         \u001b[38;5;28;01mraise\u001b[39;00m \u001b[38;5;167;01mKeyError\u001b[39;00m(\u001b[38;5;124mf\u001b[39m\u001b[38;5;124m\"\u001b[39m\u001b[38;5;132;01m{\u001b[39;00m\u001b[38;5;28mlist\u001b[39m(labels[mask])\u001b[38;5;132;01m}\u001b[39;00m\u001b[38;5;124m not found in axis\u001b[39m\u001b[38;5;124m\"\u001b[39m)\n\u001b[0;32m   6645\u001b[0m     indexer \u001b[38;5;241m=\u001b[39m indexer[\u001b[38;5;241m~\u001b[39mmask]\n\u001b[0;32m   6646\u001b[0m \u001b[38;5;28;01mreturn\u001b[39;00m \u001b[38;5;28mself\u001b[39m\u001b[38;5;241m.\u001b[39mdelete(indexer)\n",
      "\u001b[1;31mKeyError\u001b[0m: \"['lisas_reply', 'reply_text'] not found in axis\""
     ]
    }
   ],
   "source": [
    "df = df.dropna(subset=['reply_emojis'])\n",
    "df.drop(['lisas_reply','reply_text'], axis=1, inplace=True)\n",
    "\n",
    "print(df.columns)\n",
    "df.head()"
   ]
  },
  {
   "cell_type": "code",
   "execution_count": 9,
   "id": "96798d2e",
   "metadata": {},
   "outputs": [
    {
     "name": "stdout",
     "output_type": "stream",
     "text": [
      "rows: 1039\n"
     ]
    }
   ],
   "source": [
    "print(f\"rows: {len(df)}\")"
   ]
  },
  {
   "cell_type": "code",
   "execution_count": 3,
   "id": "451fe736",
   "metadata": {},
   "outputs": [
    {
     "name": "stdout",
     "output_type": "stream",
     "text": [
      "Index(['author', 'original_message', 'reply_emojis', 'encoded'], dtype='object')\n"
     ]
    }
   ],
   "source": [
    "#only run if editing from training data\n",
    "df = pd.read_csv('training.csv')\n",
    "\n",
    "print(df.columns)"
   ]
  },
  {
   "cell_type": "code",
   "execution_count": 4,
   "id": "56955196",
   "metadata": {},
   "outputs": [
    {
     "name": "stdout",
     "output_type": "stream",
     "text": [
      "                author                                   original_message  \\\n",
      "0               e.rinh                      imagine not having nitro lisa   \n",
      "1            bombard21                                make everyone admin   \n",
      "2               e.rinh                                 take photo of food   \n",
      "3               e.rinh                                       you are mean   \n",
      "4            bombard21                                                 No   \n",
      "...                ...                                                ...   \n",
      "1034  gentleman_nathan        Are there any homeware stores in Newmarket?   \n",
      "1035         bombard21  ||@bozo ||\\n\\nReact to the days that you are c...   \n",
      "1036        buddymmmm1                                Cricket every night   \n",
      "1037  gentleman_nathan                                             right?   \n",
      "1038            e.rinh  @pizza 💅🏻 @ae2 crip🦕 best bday present for you...   \n",
      "\n",
      "             reply_emojis  encoded  \n",
      "0               :lisaCat:        0  \n",
      "1          :heheHarrison:        1  \n",
      "2                :catCry:        2  \n",
      "3                   :ken:        3  \n",
      "4                   :mad:        4  \n",
      "...                   ...      ...  \n",
      "1034           :pigWoozy:       27  \n",
      "1035            :skull~1:        5  \n",
      "1036  :erinnnnnnnnnnnnnn:       22  \n",
      "1037           :thinking:       39  \n",
      "1038           :thinking:       39  \n",
      "\n",
      "[1039 rows x 4 columns]\n"
     ]
    }
   ],
   "source": [
    "# Encoding the string column to numeric values\n",
    "df['encoded'] = pd.factorize(df['reply_emojis'])[0]\n",
    "\n",
    "print(df)"
   ]
  },
  {
   "cell_type": "code",
   "execution_count": 9,
   "id": "25f2151d",
   "metadata": {},
   "outputs": [],
   "source": [
    "#label_encoder = LabelEncoder()\n",
    "#labels_encoded = label_encoder.fit_transform(df['reply_emojis'])"
   ]
  },
  {
   "cell_type": "code",
   "execution_count": 5,
   "id": "26168808",
   "metadata": {
    "scrolled": false
   },
   "outputs": [
    {
     "name": "stdout",
     "output_type": "stream",
     "text": [
      "[0, 1, 2, 3, 4, 3, 0, 5, 2, 6, 6, 7, 8, 8, 9, 10, 2, 10, 0, 11, 12, 13, 0, 14, 15, 16, 14, 4, 16, 5, 14, 17, 18, 0, 4, 15, 19, 14, 12, 2, 2, 0, 17, 2, 0, 20, 21, 22, 0, 17, 10, 23, 24, 2, 0, 21, 22, 2, 4, 9, 0, 0, 0, 17, 15, 24, 23, 17, 4, 22, 22, 24, 8, 22, 22, 25, 0, 21, 26, 5, 14, 22, 10, 2, 22, 27, 2, 0, 2, 0, 2, 18, 27, 2, 20, 2, 2, 18, 18, 27, 22, 0, 5, 4, 27, 2, 28, 22, 8, 7, 29, 10, 22, 24, 15, 24, 0, 26, 30, 24, 24, 0, 12, 22, 28, 0, 28, 7, 26, 4, 12, 0, 4, 21, 2, 24, 4, 29, 4, 7, 14, 16, 25, 9, 3, 14, 2, 23, 16, 16, 2, 3, 15, 2, 7, 7, 31, 24, 7, 26, 8, 32, 26, 26, 3, 3, 3, 18, 18, 3, 31, 10, 9, 7, 6, 0, 21, 31, 16, 31, 26, 26, 17, 0, 30, 25, 27, 24, 0, 24, 17, 15, 7, 7, 17, 27, 8, 17, 22, 24, 6, 28, 19, 24, 28, 1, 0, 24, 0, 15, 26, 0, 17, 23, 33, 33, 25, 0, 7, 0, 27, 29, 23, 4, 8, 3, 22, 21, 28, 0, 34, 0, 26, 34, 0, 17, 0, 22, 16, 24, 22, 5, 35, 3, 4, 9, 10, 22, 5, 15, 31, 0, 9, 22, 28, 22, 31, 31, 31, 31, 22, 25, 31, 31, 5, 24, 31, 9, 9, 9, 36, 9, 9, 22, 4, 31, 33, 24, 31, 21, 35, 21, 31, 22, 0, 3, 35, 22, 24, 19, 14, 27, 17, 31, 4, 5, 24, 5, 37, 37, 14, 4, 36, 36, 24, 38, 9, 9, 31, 3, 14, 24, 33, 37, 31, 23, 4, 39, 5, 22, 24, 4, 17, 7, 22, 35, 4, 8, 40, 10, 8, 10, 23, 17, 17, 18, 7, 5, 17, 33, 16, 22, 24, 23, 41, 20, 0, 22, 24, 26, 17, 22, 22, 14, 30, 42, 3, 3, 27, 0, 22, 21, 4, 4, 22, 24, 7, 22, 27, 22, 35, 24, 35, 40, 22, 22, 4, 4, 43, 22, 20, 43, 0, 44, 31, 28, 24, 35, 27, 16, 22, 22, 22, 24, 31, 31, 16, 10, 27, 0, 39, 4, 5, 24, 24, 30, 22, 40, 4, 22, 0, 6, 22, 1, 4, 19, 31, 23, 27, 20, 5, 24, 22, 19, 24, 24, 27, 27, 45, 27, 30, 24, 33, 31, 31, 45, 20, 22, 22, 0, 20, 9, 30, 22, 8, 22, 31, 16, 22, 45, 22, 24, 45, 23, 22, 0, 6, 17, 45, 16, 46, 14, 4, 31, 39, 31, 17, 22, 34, 39, 21, 37, 35, 24, 23, 47, 5, 3, 16, 22, 22, 31, 23, 31, 31, 4, 7, 23, 0, 8, 31, 37, 39, 22, 4, 39, 4, 40, 2, 14, 31, 31, 21, 2, 6, 6, 4, 22, 24, 2, 11, 22, 23, 35, 39, 24, 20, 45, 2, 45, 31, 24, 4, 15, 0, 0, 7, 22, 22, 31, 4, 4, 31, 19, 24, 0, 32, 48, 6, 39, 48, 34, 35, 0, 48, 40, 24, 31, 34, 18, 31, 32, 9, 35, 24, 26, 48, 8, 5, 24, 14, 5, 31, 0, 39, 14, 0, 5, 0, 5, 48, 0, 8, 22, 10, 0, 32, 23, 35, 22, 16, 48, 40, 22, 31, 23, 5, 8, 35, 22, 48, 35, 5, 46, 39, 45, 10, 19, 40, 0, 48, 14, 46, 31, 0, 0, 21, 0, 8, 24, 23, 22, 24, 31, 40, 0, 16, 14, 10, 4, 22, 49, 29, 26, 0, 5, 31, 32, 32, 35, 50, 8, 31, 35, 8, 22, 37, 15, 37, 0, 22, 35, 33, 22, 22, 8, 37, 35, 43, 21, 39, 22, 4, 43, 35, 39, 31, 31, 35, 51, 52, 14, 35, 35, 24, 53, 0, 35, 0, 43, 16, 35, 17, 45, 10, 24, 39, 35, 43, 0, 5, 53, 3, 40, 23, 37, 18, 46, 0, 45, 23, 0, 17, 0, 53, 31, 45, 39, 18, 53, 37, 31, 31, 22, 22, 37, 2, 0, 16, 4, 24, 18, 22, 45, 40, 45, 10, 4, 2, 22, 0, 22, 53, 22, 4, 1, 21, 23, 23, 22, 40, 11, 46, 32, 0, 22, 2, 23, 2, 48, 25, 48, 23, 48, 23, 46, 54, 23, 48, 39, 23, 32, 39, 33, 5, 5, 26, 26, 26, 21, 21, 39, 22, 5, 21, 22, 5, 5, 0, 22, 31, 5, 46, 22, 46, 45, 4, 4, 45, 22, 32, 26, 45, 26, 48, 22, 22, 5, 22, 39, 31, 7, 31, 34, 5, 32, 22, 5, 7, 6, 1, 1, 31, 31, 31, 5, 32, 22, 22, 1, 19, 34, 39, 22, 31, 31, 23, 40, 39, 39, 22, 39, 39, 22, 55, 22, 2, 4, 22, 16, 31, 5, 16, 34, 23, 23, 5, 22, 0, 19, 45, 54, 54, 21, 5, 23, 26, 45, 26, 54, 21, 4, 39, 39, 21, 40, 39, 2, 5, 6, 22, 0, 22, 23, 0, 10, 18, 0, 23, 34, 0, 2, 10, 4, 10, 19, 10, 10, 22, 45, 53, 4, 5, 34, 6, 34, 54, 10, 40, 56, 22, 6, 4, 0, 22, 34, 5, 16, 4, 31, 22, 2, 21, 8, 23, 39, 16, 39, 11, 4, 22, 39, 22, 35, 23, 33, 0, 10, 0, 22, 39, 23, 32, 5, 6, 33, 5, 6, 53, 0, 22, 0, 39, 0, 22, 4, 11, 5, 4, 1, 31, 0, 10, 34, 23, 35, 29, 23, 48, 5, 22, 22, 48, 40, 5, 23, 26, 39, 22, 23, 5, 0, 11, 5, 10, 35, 7, 5, 53, 35, 22, 32, 22, 53, 22, 24, 23, 0, 16, 21, 21, 21, 22, 16, 31, 23, 23, 39, 22, 21, 35, 0, 16, 6, 21, 22, 33, 6, 5, 2, 5, 23, 23, 20, 31, 6, 23, 27, 31, 27, 29, 21, 26, 27, 21, 6, 21, 27, 22, 22, 25, 0, 21, 16, 16, 57, 20, 23, 23, 0, 16, 16, 23, 21, 27, 5, 22, 39, 39]\n"
     ]
    }
   ],
   "source": [
    "emoji_encoded = df['encoded'].tolist()\n",
    "print(emoji_encoded)"
   ]
  },
  {
   "cell_type": "code",
   "execution_count": 6,
   "id": "4391bd7c",
   "metadata": {},
   "outputs": [
    {
     "name": "stdout",
     "output_type": "stream",
     "text": [
      "SHUT UP\n"
     ]
    }
   ],
   "source": [
    "emojis = pd.factorize(df['reply_emojis'])[1]\n",
    "\n",
    "encoded_to_string = {i: string for i, string in enumerate(emojis)}\n",
    "def get_emoji_back(encoded_number):\n",
    "    return encoded_to_string.get(encoded_number, \"Unknown\")\n",
    "\n",
    "print(get_emoji_back(7))"
   ]
  },
  {
   "cell_type": "code",
   "execution_count": 7,
   "id": "2d6d0a6d",
   "metadata": {},
   "outputs": [
    {
     "data": {
      "image/png": "[encoded data removed]",
      "text/plain": [
       "<Figure size 432x288 with 1 Axes>"
      ]
     },
     "metadata": {
      "needs_background": "light"
     },
     "output_type": "display_data"
    }
   ],
   "source": [
    "import matplotlib.pyplot as plt\n",
    "\n",
    "plt.hist(emoji_encoded, bins=90)  # 'bins' can be an integer or 'auto' for automatic bin sizing\n",
    "plt.title('Frequency Distribution')\n",
    "plt.xlabel('Value')\n",
    "plt.ylabel('Frequency')\n",
    "plt.show()"
   ]
  },
  {
   "cell_type": "code",
   "execution_count": 8,
   "id": "948fe88d",
   "metadata": {},
   "outputs": [
    {
     "name": "stdout",
     "output_type": "stream",
     "text": [
      "    Emoji  Frequency                                         Emoji_Char\n",
      "0      22        117                                :erinnnnnnnnnnnnnn:\n",
      "1       0         85                                          :lisaCat:\n",
      "2      31         63                                             no you\n",
      "3       5         49                                          :skull~1:\n",
      "4      24         49  https://cdn.discordapp.com/emojis/841886073519...\n",
      "5       4         49                                              :mad:\n",
      "6      23         48                                              :yay:\n",
      "7      39         35                                         :thinking:\n",
      "8       2         33                                           :catCry:\n",
      "9      21         31                                   :nathanielScary:\n",
      "10     35         30                                               :no:\n",
      "11     16         28                                          :ohHello:\n",
      "12     10         24  https://cdn.discordapp.com/emojis/106908432572...\n",
      "13     26         22                                      :harryBarbie:\n",
      "14     27         21                                         :pigWoozy:\n",
      "15     17         21                                           :catcry:\n",
      "16     45         19                                              DRAMA\n",
      "17      8         19  https://cdn.discordapp.com/emojis/107086901534...\n",
      "18      7         19                                            SHUT UP\n",
      "19      6         19                                           :joever:\n",
      "20     14         18  https://cdn.discordapp.com/emojis/881182531536...\n",
      "21      3         16                                              :ken:\n",
      "22     40         15                                         :evilJack:\n",
      "23     48         15                                      :catThumbsUp:\n",
      "24      9         15                                          :clown~1:\n",
      "25     32         13                                            :llama:\n",
      "26     34         13                                         :ohNoFull:\n",
      "27     18         12                                              :gun:\n",
      "28     33         11                                         :gigaChad:\n",
      "29     37         11  https://cdn.discordapp.com/emojis/771016190101...\n",
      "30     20         10                                             :angy:\n",
      "31     15         10  https://cdn.discordapp.com/emojis/750768558975...\n",
      "32     19         10  https://cdn.discordapp.com/emojis/954378740958...\n",
      "33     53          9                                         :yesPingu:\n",
      "34     46          8                                        :queenLuma:\n",
      "35     28          8  https://cdn.discordapp.com/emojis/108982989261...\n",
      "36      1          8                                     :heheHarrison:\n",
      "37     25          7                                          :pigCold:\n",
      "38     43          6                                          :lachlan:\n",
      "39     29          6                                              BASED\n",
      "40     30          6                                            :adian:\n",
      "41     11          6                                            :slayy:\n",
      "42     54          5                                            :clown:\n",
      "43     12          4                                         :pigShock:\n",
      "44     36          3                                  :thomasSurprised:\n",
      "45     38          1                                          :shaking:\n",
      "46     51          1                                      :SCsleepybb4:\n",
      "47     56          1                                         :GigaChad:\n",
      "48     55          1                                     :nathanielHuh:\n",
      "49     52          1                                  :Bubbles_Whimper:\n",
      "50     49          1                                        :squidward:\n",
      "51     50          1                                          :taytea2:\n",
      "52     41          1                                       :TouchGrass:\n",
      "53     47          1                                          :atayrun:\n",
      "54     13          1                                              :hmm:\n",
      "55     44          1                                            :tired:\n",
      "56     42          1                                              :sad:\n",
      "57     57          1                                         :notSlayy:\n"
     ]
    }
   ],
   "source": [
    "import pandas as pd\n",
    "from collections import Counter\n",
    "\n",
    "# Assuming 'emoji_encoded' is your list/array of encoded emojis\n",
    "emoji_frequencies = Counter(emoji_encoded)\n",
    "\n",
    "# Convert to a list of (emoji, frequency) pairs\n",
    "emoji_freq_list = list(emoji_frequencies.items())\n",
    "\n",
    "# Create a DataFrame with the emoji and their frequencies\n",
    "emoji_freq_df = pd.DataFrame(emoji_freq_list, columns=['Emoji', 'Frequency'])\n",
    "\n",
    "# Sort the DataFrame by frequency in descending order\n",
    "emoji_freq_df = emoji_freq_df.sort_values('Frequency', ascending=False).reset_index(drop=True)\n",
    "\n",
    "# Map the encoded numbers to their string representations\n",
    "emoji_freq_df['Emoji_Char'] = emoji_freq_df['Emoji'].map(encoded_to_string)\n",
    "\n",
    "# Display the DataFrame\n",
    "print(emoji_freq_df)\n",
    "\n",
    "emoji_freq_df.to_csv('emoji_freq_df.csv', index=False)"
   ]
  },
  {
   "cell_type": "code",
   "execution_count": 9,
   "id": "45117f7d",
   "metadata": {},
   "outputs": [],
   "source": [
    "df.to_csv('training.csv', index=False)"
   ]
  },
  {
   "cell_type": "code",
   "execution_count": 10,
   "id": "b9d97912",
   "metadata": {},
   "outputs": [
    {
     "name": "stdout",
     "output_type": "stream",
     "text": [
      "0                    e.rinh imagine not having nitro lisa\n",
      "1                           bombard21 make everyone admin\n",
      "2                               e.rinh take photo of food\n",
      "3                                     e.rinh you are mean\n",
      "4                                            bombard21 No\n",
      "                              ...                        \n",
      "1034    gentleman_nathan Are there any homeware stores...\n",
      "1035    bombard21 ||@bozo ||\\n\\nReact to the days that...\n",
      "1036                       buddymmmm1 Cricket every night\n",
      "1037                              gentleman_nathan right?\n",
      "1038    e.rinh @pizza 💅🏻 @ae2 crip🦕 best bday present ...\n",
      "Name: author_and_message, Length: 1039, dtype: object\n"
     ]
    }
   ],
   "source": [
    "df['author_and_message'] = df['author'] + ' ' + df['original_message']\n",
    "print(df['author_and_message'])"
   ]
  },
  {
   "cell_type": "code",
   "execution_count": 11,
   "id": "2ba7cbd1",
   "metadata": {},
   "outputs": [
    {
     "name": "stdout",
     "output_type": "stream",
     "text": [
      "The most common encoded value is 22 with a count of 117\n"
     ]
    }
   ],
   "source": [
    "frequency = Counter(emoji_encoded)\n",
    "\n",
    "# Find the most common encoded value\n",
    "most_common_encoded_value, count = frequency.most_common(1)[0]\n",
    "\n",
    "print(f\"The most common encoded value is {most_common_encoded_value} with a count of {count}\")"
   ]
  },
  {
   "cell_type": "code",
   "execution_count": 12,
   "id": "c14acca8",
   "metadata": {},
   "outputs": [],
   "source": [
    "X = df['author_and_message']\n",
    "\n",
    "# Count Vectorise\n",
    "vectorizer = CountVectorizer()\n",
    "X_counts = vectorizer.fit_transform(X)\n",
    "\n",
    "# TFIDF Convert\n",
    "tfidf_transformer = TfidfTransformer()\n",
    "X_tfidf = tfidf_transformer.fit_transform(X_counts)"
   ]
  },
  {
   "cell_type": "code",
   "execution_count": 13,
   "id": "cccb0371",
   "metadata": {},
   "outputs": [],
   "source": [
    "# Split into training and test splits (80/20)\n",
    "X_train, X_test, y_train, y_test = train_test_split(X_tfidf, emoji_encoded, test_size=0.1, random_state=0)"
   ]
  },
  {
   "cell_type": "code",
   "execution_count": 20,
   "id": "d23a8f34",
   "metadata": {},
   "outputs": [
    {
     "name": "stdout",
     "output_type": "stream",
     "text": [
      "[12 21  7 22 21  0 53  3  0 35 25 17 22  0 22 31 22 24 31 26 22  0  4 14\n",
      " 22 32 16 23 19  5 22 35 18 22 35  0 31  9 31 31  0 12 35 22  0 24  4 22\n",
      "  0 25  0  0  0 12  0  3  4 21  0  0  5 12  0 53 24 21 22 21  0  0 35 21\n",
      "  5  4 22 21  4  4 22 22 48  7  9  0 39  6 26  0  2  0 22 27  0 22  0 37\n",
      " 22 22 39  0  0  4 22  3]\n"
     ]
    }
   ],
   "source": [
    "smote = SMOTE(random_state=42)\n",
    "\n",
    "dt_classifier = DecisionTreeClassifier(\n",
    "    class_weight='balanced',\n",
    "    splitter='random',\n",
    "    max_features='sqrt'  \n",
    ")\n",
    "dt_classifier.fit(X_train, y_train)\n",
    "dt_y_pred = dt_classifier.predict(X_test)\n",
    "print(dt_y_pred)"
   ]
  },
  {
   "cell_type": "code",
   "execution_count": 55,
   "id": "a022d779",
   "metadata": {},
   "outputs": [
    {
     "data": {
      "text/html": [
       "<style>#sk-container-id-1 {color: black;}#sk-container-id-1 pre{padding: 0;}#sk-container-id-1 div.sk-toggleable {background-color: white;}#sk-container-id-1 label.sk-toggleable__label {cursor: pointer;display: block;width: 100%;margin-bottom: 0;padding: 0.3em;box-sizing: border-box;text-align: center;}#sk-container-id-1 label.sk-toggleable__label-arrow:before {content: \"▸\";float: left;margin-right: 0.25em;color: #696969;}#sk-container-id-1 label.sk-toggleable__label-arrow:hover:before {color: black;}#sk-container-id-1 div.sk-estimator:hover label.sk-toggleable__label-arrow:before {color: black;}#sk-container-id-1 div.sk-toggleable__content {max-height: 0;max-width: 0;overflow: hidden;text-align: left;background-color: #f0f8ff;}#sk-container-id-1 div.sk-toggleable__content pre {margin: 0.2em;color: black;border-radius: 0.25em;background-color: #f0f8ff;}#sk-container-id-1 input.sk-toggleable__control:checked~div.sk-toggleable__content {max-height: 200px;max-width: 100%;overflow: auto;}#sk-container-id-1 input.sk-toggleable__control:checked~label.sk-toggleable__label-arrow:before {content: \"▾\";}#sk-container-id-1 div.sk-estimator input.sk-toggleable__control:checked~label.sk-toggleable__label {background-color: #d4ebff;}#sk-container-id-1 div.sk-label input.sk-toggleable__control:checked~label.sk-toggleable__label {background-color: #d4ebff;}#sk-container-id-1 input.sk-hidden--visually {border: 0;clip: rect(1px 1px 1px 1px);clip: rect(1px, 1px, 1px, 1px);height: 1px;margin: -1px;overflow: hidden;padding: 0;position: absolute;width: 1px;}#sk-container-id-1 div.sk-estimator {font-family: monospace;background-color: #f0f8ff;border: 1px dotted black;border-radius: 0.25em;box-sizing: border-box;margin-bottom: 0.5em;}#sk-container-id-1 div.sk-estimator:hover {background-color: #d4ebff;}#sk-container-id-1 div.sk-parallel-item::after {content: \"\";width: 100%;border-bottom: 1px solid gray;flex-grow: 1;}#sk-container-id-1 div.sk-label:hover label.sk-toggleable__label {background-color: #d4ebff;}#sk-container-id-1 div.sk-serial::before {content: \"\";position: absolute;border-left: 1px solid gray;box-sizing: border-box;top: 0;bottom: 0;left: 50%;z-index: 0;}#sk-container-id-1 div.sk-serial {display: flex;flex-direction: column;align-items: center;background-color: white;padding-right: 0.2em;padding-left: 0.2em;position: relative;}#sk-container-id-1 div.sk-item {position: relative;z-index: 1;}#sk-container-id-1 div.sk-parallel {display: flex;align-items: stretch;justify-content: center;background-color: white;position: relative;}#sk-container-id-1 div.sk-item::before, #sk-container-id-1 div.sk-parallel-item::before {content: \"\";position: absolute;border-left: 1px solid gray;box-sizing: border-box;top: 0;bottom: 0;left: 50%;z-index: -1;}#sk-container-id-1 div.sk-parallel-item {display: flex;flex-direction: column;z-index: 1;position: relative;background-color: white;}#sk-container-id-1 div.sk-parallel-item:first-child::after {align-self: flex-end;width: 50%;}#sk-container-id-1 div.sk-parallel-item:last-child::after {align-self: flex-start;width: 50%;}#sk-container-id-1 div.sk-parallel-item:only-child::after {width: 0;}#sk-container-id-1 div.sk-dashed-wrapped {border: 1px dashed gray;margin: 0 0.4em 0.5em 0.4em;box-sizing: border-box;padding-bottom: 0.4em;background-color: white;}#sk-container-id-1 div.sk-label label {font-family: monospace;font-weight: bold;display: inline-block;line-height: 1.2em;}#sk-container-id-1 div.sk-label-container {text-align: center;}#sk-container-id-1 div.sk-container {/* jupyter's `normalize.less` sets `[hidden] { display: none; }` but bootstrap.min.css set `[hidden] { display: none !important; }` so we also need the `!important` here to be able to override the default hidden behavior on the sphinx rendered scikit-learn.org. See: https://github.com/scikit-learn/scikit-learn/issues/21755 */display: inline-block !important;position: relative;}#sk-container-id-1 div.sk-text-repr-fallback {display: none;}</style><div id=\"sk-container-id-1\" class=\"sk-top-container\"><div class=\"sk-text-repr-fallback\"><pre>RandomForestClassifier(random_state=42)</pre><b>In a Jupyter environment, please rerun this cell to show the HTML representation or trust the notebook. <br />On GitHub, the HTML representation is unable to render, please try loading this page with nbviewer.org.</b></div><div class=\"sk-container\" hidden><div class=\"sk-item\"><div class=\"sk-estimator sk-toggleable\"><input class=\"sk-toggleable__control sk-hidden--visually\" id=\"sk-estimator-id-1\" type=\"checkbox\" checked><label for=\"sk-estimator-id-1\" class=\"sk-toggleable__label sk-toggleable__label-arrow\">RandomForestClassifier</label><div class=\"sk-toggleable__content\"><pre>RandomForestClassifier(random_state=42)</pre></div></div></div></div></div>"
      ],
      "text/plain": [
       "RandomForestClassifier(random_state=42)"
      ]
     },
     "execution_count": 55,
     "metadata": {},
     "output_type": "execute_result"
    }
   ],
   "source": [
    "rf_classifier = RandomForestClassifier(n_estimators=100, random_state=42)\n",
    "rf_classifier.fit(X_train, y_train)"
   ]
  },
  {
   "cell_type": "code",
   "execution_count": 15,
   "id": "da52f79d",
   "metadata": {},
   "outputs": [
    {
     "data": {
      "text/plain": [
       "':erinnnnnnnnnnnnnn:'"
      ]
     },
     "execution_count": 15,
     "metadata": {},
     "output_type": "execute_result"
    }
   ],
   "source": [
    "#function for outputting the most likely emoji\n",
    "def predict_emoji(text, classifier, vectorizer):\n",
    "    # Preprocess and vectorize the input text\n",
    "    text_vectorized = vectorizer.transform([text])\n",
    "    \n",
    "    # Predict the emoji\n",
    "    emoji_index = classifier.predict(text_vectorized)\n",
    "\n",
    "    # Decode the emoji\n",
    "    emoji = get_emoji_back(emoji_index[0])\n",
    "    \n",
    "    return emoji\n",
    "\n",
    "text = \"They didn’t want to sleep over\"\n",
    "predict_emoji(text, dt_classifier, vectorizer)"
   ]
  },
  {
   "cell_type": "code",
   "execution_count": 18,
   "id": "18d69ea3",
   "metadata": {},
   "outputs": [
    {
     "data": {
      "text/plain": [
       "['https://cdn.discordapp.com/emojis/1070869015343411210.webp?size=128&quality=lossless']"
      ]
     },
     "execution_count": 18,
     "metadata": {},
     "output_type": "execute_result"
    }
   ],
   "source": [
    "#function for outputting any emoji as long as its probability is beyond the threshold. \n",
    "def predict_emoji(text, classifier, vectorizer, threshold=0.1):\n",
    "    # Preprocess and vectorize the input text\n",
    "    text_vectorized = vectorizer.transform([text])\n",
    "    \n",
    "    # Get probabilities for each emoji\n",
    "    probabilities = classifier.predict_proba(text_vectorized)[0]\n",
    "\n",
    "    # Filter out predictions with probabilities above the threshold\n",
    "    high_prob_indices = [i for i, prob in enumerate(probabilities) if prob > threshold]\n",
    "\n",
    "    # Decode the emojis\n",
    "    emojis = [get_emoji_back(index) for index in high_prob_indices]\n",
    "    \n",
    "    return emojis\n",
    "\n",
    "text = \"racist\"\n",
    "predict_emoji(text, dt_classifier, vectorizer, threshold=0.1)"
   ]
  },
  {
   "cell_type": "code",
   "execution_count": 19,
   "id": "6df1ee6a",
   "metadata": {},
   "outputs": [
    {
     "name": "stdout",
     "output_type": "stream",
     "text": [
      "Text: support the troops sir\n",
      "Predicted Emojis: [':erinnnnnnnnnnnnnn:']\n",
      "---\n",
      "Text: it's a beautiful day\n",
      "Predicted Emojis: [':yay:']\n",
      "---\n",
      "Text: feeling sad and down\n",
      "Predicted Emojis: [':joever:']\n",
      "---\n",
      "Text: celebrating a big win!\n",
      "Predicted Emojis: [':erinnnnnnnnnnnnnn:']\n",
      "---\n",
      "Text: ready for the holidays\n",
      "Predicted Emojis: [':erinnnnnnnnnnnnnn:']\n",
      "---\n",
      "Text: erin you are a home\n",
      "Predicted Emojis: ['https://cdn.discordapp.com/emojis/841886073519996979.gif?size=128&quality=lossless']\n",
      "---\n",
      "Text: llama!\n",
      "Predicted Emojis: [':llama:']\n",
      "---\n"
     ]
    }
   ],
   "source": [
    "# List of text examples\n",
    "texts = [\n",
    "    \"support the troops sir\",\n",
    "    \"it's a beautiful day\",\n",
    "    \"feeling sad and down\",\n",
    "    \"celebrating a big win!\",\n",
    "    \"ready for the holidays\",\n",
    "    \"erin you are a home\",\n",
    "    \"llama!\"\n",
    "]\n",
    "\n",
    "# Loop through each text example and predict emojis\n",
    "for text in texts:\n",
    "    emoji_predictions = predict_emoji(text, dt_classifier, vectorizer, threshold=0.1)\n",
    "    print(f\"Text: {text}\")\n",
    "    print(f\"Predicted Emojis: {emoji_predictions}\")\n",
    "    print(\"---\") \n"
   ]
  },
  {
   "cell_type": "code",
   "execution_count": 21,
   "id": "18b24702",
   "metadata": {},
   "outputs": [
    {
     "name": "stdout",
     "output_type": "stream",
     "text": [
      "0.18269230769230768\n",
      "              precision    recall  f1-score   support\n",
      "\n",
      "           0       0.12      0.50      0.20         6\n",
      "           1       0.00      0.00      0.00         3\n",
      "           2       0.00      0.00      0.00         2\n",
      "           3       0.33      1.00      0.50         1\n",
      "           4       0.14      0.12      0.13         8\n",
      "           5       0.00      0.00      0.00         4\n",
      "           6       0.00      0.00      0.00         0\n",
      "           7       0.00      0.00      0.00         2\n",
      "           8       0.00      0.00      0.00         5\n",
      "           9       0.00      0.00      0.00         1\n",
      "          10       0.00      0.00      0.00         4\n",
      "          12       0.00      0.00      0.00         1\n",
      "          14       0.00      0.00      0.00         0\n",
      "          16       0.00      0.00      0.00         4\n",
      "          17       0.00      0.00      0.00         1\n",
      "          18       0.00      0.00      0.00         1\n",
      "          19       0.00      0.00      0.00         0\n",
      "          20       0.00      0.00      0.00         2\n",
      "          21       0.43      0.60      0.50         5\n",
      "          22       0.37      0.39      0.38        18\n",
      "          23       0.00      0.00      0.00         5\n",
      "          24       0.00      0.00      0.00         4\n",
      "          25       1.00      0.67      0.80         3\n",
      "          26       0.00      0.00      0.00         1\n",
      "          27       1.00      0.50      0.67         2\n",
      "          31       0.00      0.00      0.00         4\n",
      "          32       0.00      0.00      0.00         0\n",
      "          33       0.00      0.00      0.00         3\n",
      "          35       0.00      0.00      0.00         3\n",
      "          36       0.00      0.00      0.00         1\n",
      "          37       0.00      0.00      0.00         1\n",
      "          39       0.00      0.00      0.00         2\n",
      "          40       0.00      0.00      0.00         2\n",
      "          43       0.00      0.00      0.00         2\n",
      "          45       0.00      0.00      0.00         1\n",
      "          48       1.00      1.00      1.00         1\n",
      "          53       0.00      0.00      0.00         0\n",
      "          57       0.00      0.00      0.00         1\n",
      "\n",
      "    accuracy                           0.18       104\n",
      "   macro avg       0.12      0.13      0.11       104\n",
      "weighted avg       0.16      0.18      0.16       104\n",
      "\n"
     ]
    }
   ],
   "source": [
    "print(accuracy_score(y_test, dt_y_pred))\n",
    "print(classification_report(y_test, dt_y_pred, zero_division=0))"
   ]
  },
  {
   "cell_type": "markdown",
   "id": "8e968acf",
   "metadata": {},
   "source": [
    "## now lets export the model "
   ]
  },
  {
   "cell_type": "code",
   "execution_count": 22,
   "id": "32ab52f7",
   "metadata": {},
   "outputs": [
    {
     "name": "stdout",
     "output_type": "stream",
     "text": [
      "Encoded to String Mapping: {0: ':lisaCat:', 1: ':heheHarrison:', 2: ':catCry:', 3: ':ken:', 4: ':mad:', 5: ':skull~1:', 6: ':joever:', 7: 'SHUT UP', 8: 'https://cdn.discordapp.com/emojis/1070869015343411210.webp?size=128&quality=lossless', 9: ':clown~1:', 10: 'https://cdn.discordapp.com/emojis/1069084325720637500.webp?size=128&quality=lossless', 11: ':slayy:', 12: ':pigShock:', 13: ':hmm:', 14: 'https://cdn.discordapp.com/emojis/881182531536449587.gif?size=128&quality=lossless', 15: 'https://cdn.discordapp.com/emojis/750768558975484065.webp?size=128&quality=lossless', 16: ':ohHello:', 17: ':catcry:', 18: ':gun:', 19: 'https://cdn.discordapp.com/emojis/954378740958363748.webp?size=128&quality=lossless', 20: ':angy:', 21: ':nathanielScary:', 22: ':erinnnnnnnnnnnnnn:', 23: ':yay:', 24: 'https://cdn.discordapp.com/emojis/841886073519996979.gif?size=128&quality=lossless', 25: ':pigCold:', 26: ':harryBarbie:', 27: ':pigWoozy:', 28: 'https://cdn.discordapp.com/emojis/1089829892616618025.webp?size=128&quality=lossless', 29: 'BASED', 30: ':adian:', 31: 'no you', 32: ':llama:', 33: ':gigaChad:', 34: ':ohNoFull:', 35: ':no:', 36: ':thomasSurprised:', 37: 'https://cdn.discordapp.com/emojis/771016190101291008.webp?size=128&quality=lossless', 38: ':shaking:', 39: ':thinking:', 40: ':evilJack:', 41: ':TouchGrass:', 42: ':sad:', 43: ':lachlan:', 44: ':tired:', 45: 'DRAMA', 46: ':queenLuma:', 47: ':atayrun:', 48: ':catThumbsUp:', 49: ':squidward:', 50: ':taytea2:', 51: ':SCsleepybb4:', 52: ':Bubbles_Whimper:', 53: ':yesPingu:', 54: ':clown:', 55: ':nathanielHuh:', 56: ':GigaChad:', 57: ':notSlayy:'}\n"
     ]
    }
   ],
   "source": [
    "print(\"Encoded to String Mapping:\", encoded_to_string)"
   ]
  },
  {
   "cell_type": "code",
   "execution_count": 23,
   "id": "d241241b",
   "metadata": {},
   "outputs": [],
   "source": [
    "# Serialize the classifier\n",
    "with open('classifier.pkl', 'wb') as file:\n",
    "    pickle.dump(dt_classifier, file)\n",
    "\n",
    "# Serialize the vectorizer\n",
    "with open('vectorizer.pkl', 'wb') as file:\n",
    "    pickle.dump(vectorizer, file)\n",
    "\n",
    "# Serialize the encoded_to_string dictionary\n",
    "with open('encoded_to_string.pkl', 'wb') as file:\n",
    "    pickle.dump(encoded_to_string, file)"
   ]
  },
  {
   "cell_type": "code",
   "execution_count": 76,
   "id": "959542e0",
   "metadata": {},
   "outputs": [],
   "source": [
    "# load it back up\n",
    "def load_pickle(file_name):\n",
    "    with open(file_name, 'rb') as file:\n",
    "        return pickle.load(file)\n",
    "\n",
    "# Loading the serialized components\n",
    "classifier = load_pickle('classifier.pkl')\n",
    "vectorizer = load_pickle('vectorizer.pkl')\n",
    "encoded_to_string = load_pickle('encoded_to_string.pkl')\n",
    "\n",
    "# Your get_emoji_back function here\n",
    "def get_emoji_back(encoded_number):\n",
    "    return encoded_to_string.get(encoded_number, \"Unknown\")"
   ]
  },
  {
   "cell_type": "code",
   "execution_count": null,
   "id": "c9abdc25",
   "metadata": {},
   "outputs": [],
   "source": []
  }
 ],
 "metadata": {
  "kernelspec": {
   "display_name": "Python 3 (ipykernel)",
   "language": "python",
   "name": "python3"
  },
  "language_info": {
   "codemirror_mode": {
    "name": "ipython",
    "version": 3
   },
   "file_extension": ".py",
   "mimetype": "text/x-python",
   "name": "python",
   "nbconvert_exporter": "python",
   "pygments_lexer": "ipython3",
   "version": "3.10.6"
  }
 },
 "nbformat": 4,
 "nbformat_minor": 5
}
